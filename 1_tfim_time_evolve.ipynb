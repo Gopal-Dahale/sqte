{
 "cells": [
  {
   "cell_type": "markdown",
   "id": "2864941c-5772-4eb3-b550-3ee998155c94",
   "metadata": {},
   "source": [
    "# Time evolution with PennyLane\n",
    "\n",
    "[![Open In Colab](https://colab.research.google.com/assets/colab-badge.svg)](https://colab.research.google.com/github/Gopal-Dahale/sqte/blob/main/1_tfim_time_evolve.ipynb)\n",
    "\n",
    "## Setup"
   ]
  },
  {
   "cell_type": "code",
   "execution_count": null,
   "id": "fe173d77-9a43-40cb-ad81-05b587e5f6e5",
   "metadata": {},
   "outputs": [],
   "source": [
    "# !pip install -q pennylane"
   ]
  },
  {
   "cell_type": "code",
   "execution_count": 1,
   "id": "b9299805-ff03-4ca0-803c-75aaff49957a",
   "metadata": {},
   "outputs": [],
   "source": [
    "import pennylane as qml\n",
    "import numpy as np\n",
    "from pennylane.devices.qubit import create_initial_state, apply_operation\n",
    "from time import time\n",
    "from multiprocessing import Pool\n",
    "from ipywidgets import interact, FloatSlider\n",
    "import matplotlib.pyplot as plt\n",
    "import ipywidgets as widgets\n",
    "from IPython.display import display, clear_output\n",
    "import scipy"
   ]
  },
  {
   "cell_type": "code",
   "execution_count": 2,
   "id": "6cc89c74-a590-4d03-9ef7-539ecc0080b8",
   "metadata": {},
   "outputs": [],
   "source": [
    "def tfim_hamiltonian(n, J = 1.0, h = 1.0):\n",
    "    coeffs = []\n",
    "    ops = []\n",
    "    \n",
    "    # ZZ interaction terms\n",
    "    for i in range(n - 1):\n",
    "        coeffs.append(J)\n",
    "        ops.append(qml.PauliZ(i) @ qml.PauliZ(i + 1))\n",
    "    \n",
    "    # Transverse field terms (X terms)\n",
    "    for i in range(n):\n",
    "        coeffs.append(h)\n",
    "        ops.append(qml.PauliX(i))\n",
    "    \n",
    "    return qml.Hamiltonian(coeffs, ops)\n",
    "\n",
    "H = tfim_hamiltonian(4, J=1.0, h=0.5)"
   ]
  },
  {
   "cell_type": "code",
   "execution_count": 3,
   "id": "6bdf0ce3-37d1-4d97-8aba-1732ca0a9c8f",
   "metadata": {},
   "outputs": [],
   "source": [
    "def insert_zero_sorted(arr):\n",
    "    if 0 in arr:\n",
    "        return arr  # Zero is already present\n",
    "    \n",
    "    # Find the insertion index for zero\n",
    "    idx = np.searchsorted(arr, 0)  # Finds the index where 0 should be inserted\n",
    "    return np.insert(arr, idx, 0)"
   ]
  },
  {
   "cell_type": "code",
   "execution_count": 4,
   "id": "a324e00c-cfc7-4b71-a226-aed2c4f9a388",
   "metadata": {},
   "outputs": [
    {
     "name": "stdout",
     "output_type": "stream",
     "text": [
      "Hamiltonian precompute time: 0.2347 sec\n"
     ]
    }
   ],
   "source": [
    "J_list = insert_zero_sorted(np.linspace(-2, 2, 20))\n",
    "h_list = insert_zero_sorted(np.linspace(0, 4, 20))\n",
    "t_list = np.linspace(0, np.pi, 3)\n",
    "\n",
    "n_qubits = 4\n",
    "state = create_initial_state(range(n_qubits))\n",
    "\n",
    "# Function to generate Hamiltonian for given (J, h)\n",
    "def generate_hamiltonian(params):\n",
    "    J, h = params\n",
    "    return (J, h, tfim_hamiltonian(n_qubits, J, h))\n",
    "\n",
    "# Parallelize Hamiltonian creation\n",
    "start = time()\n",
    "H_list = [generate_hamiltonian((J, h)) for J in J_list for h in h_list]\n",
    "\n",
    "# Convert list to dictionary for fast lookup\n",
    "H_dict = {(J, h): H for J, h, H in H_list}\n",
    "del H_list\n",
    "print(f\"Hamiltonian precompute time: {time() - start:.4f} sec\")"
   ]
  },
  {
   "cell_type": "code",
   "execution_count": 5,
   "id": "9f562f13-55e7-4e4b-9caf-e152ecc708a0",
   "metadata": {},
   "outputs": [
    {
     "name": "stdout",
     "output_type": "stream",
     "text": [
      "Time evolution duration: 6.8207 sec\n"
     ]
    }
   ],
   "source": [
    "# Function to evolve state for given (t, J, h)\n",
    "def evolve_state(params):\n",
    "    t, J, h, H = params\n",
    "    EvoH = qml.evolve(H, coeff=1)\n",
    "    return apply_operation(EvoH, state).flatten()\n",
    "    \n",
    "# Parallelize time evolution\n",
    "start = time()\n",
    "with Pool() as pool:\n",
    "    results = pool.map(evolve_state, [(t, J, h, H_dict[(J, h)]) for t in t_list for J in J_list for h in h_list])\n",
    "\n",
    "results = np.array(results).reshape(len(t_list), len(J_list), len(h_list), 2**n_qubits)\n",
    "print(f\"Time evolution duration: {time() - start:.4f} sec\")"
   ]
  },
  {
   "cell_type": "code",
   "execution_count": 6,
   "id": "1a9c2fc7-b2f8-4a18-a82a-92705d060e70",
   "metadata": {},
   "outputs": [
    {
     "data": {
      "text/plain": [
       "(3, 21, 20, 16)"
      ]
     },
     "execution_count": 6,
     "metadata": {},
     "output_type": "execute_result"
    }
   ],
   "source": [
    "results.shape"
   ]
  },
  {
   "cell_type": "code",
   "execution_count": 7,
   "id": "67d1ced2-9a3f-4a5e-8c89-d7877d281b67",
   "metadata": {},
   "outputs": [],
   "source": [
    "# Define computational basis states\n",
    "x_vals = np.arange(2**n_qubits) \n",
    "\n",
    "# Interactive plot function\n",
    "def plot_probabilities(t_idx, J_idx, h_idx):\n",
    "    clear_output(wait=True)  # Speed up rendering by clearing old plots\n",
    "    \n",
    "    psi = results[t_idx, J_idx, h_idx]  # Extract state vector\n",
    "    probabilities = np.abs(psi) ** 2  # Compute probabilities\n",
    "\n",
    "    # Plot\n",
    "    plt.figure(figsize=(8, 5))\n",
    "    plt.bar(x_vals, probabilities, color='blue', alpha=0.7)\n",
    "    plt.xlabel(\"Computational Basis State (x)\")\n",
    "    plt.ylabel(\"Probability |ψ(x, t)|²\")\n",
    "    plt.title(f\"TFIM Evolution: $t={t_list[t_idx]:.2f}, J={J_list[J_idx]:.2f}, h={h_list[h_idx]:.2f}$\")\n",
    "    plt.ylim(0, 1)  # Probability range\n",
    "    plt.xticks(x_vals)  # Show x values\n",
    "    plt.show()"
   ]
  },
  {
   "cell_type": "code",
   "execution_count": 8,
   "id": "edfbbb89-ee14-48a1-93e0-b3f5b224444d",
   "metadata": {},
   "outputs": [
    {
     "data": {
      "application/vnd.jupyter.widget-view+json": {
       "model_id": "0798c87f27e94ba0b61e09f439f89c83",
       "version_major": 2,
       "version_minor": 0
      },
      "text/plain": [
       "VBox(children=(SelectionSlider(description='t', options=(('0.00', 0), ('1.57', 1), ('3.14', 2)), value=0), Sel…"
      ]
     },
     "metadata": {},
     "output_type": "display_data"
    },
    {
     "data": {
      "application/vnd.jupyter.widget-view+json": {
       "model_id": "c603363edea04d29ad297fdf3fd137e0",
       "version_major": 2,
       "version_minor": 0
      },
      "text/plain": [
       "Output()"
      ]
     },
     "metadata": {},
     "output_type": "display_data"
    }
   ],
   "source": [
    "# Create sliders with actual values \n",
    "t_slider = widgets.SelectionSlider(options=[(f\"{t:.2f}\", i) for i, t in enumerate(t_list)], description=\"t\")\n",
    "J_slider = widgets.SelectionSlider(options=[(f\"{J:.2f}\", i) for i, J in enumerate(J_list)], description=\"J\")\n",
    "h_slider = widgets.SelectionSlider(options=[(f\"{h:.2f}\", i) for i, h in enumerate(h_list)], description=\"h\")\n",
    "\n",
    "# Create interactive UI\n",
    "ui = widgets.VBox([t_slider, J_slider, h_slider])\n",
    "out = widgets.interactive_output(plot_probabilities, {'t_idx': t_slider, 'J_idx': J_slider, 'h_idx': h_slider})\n",
    "\n",
    "# Display widgets\n",
    "display(ui, out)"
   ]
  },
  {
   "cell_type": "code",
   "execution_count": null,
   "id": "9307f823-e774-4338-9316-9aeddffe09de",
   "metadata": {},
   "outputs": [],
   "source": []
  }
 ],
 "metadata": {
  "kernelspec": {
   "display_name": "Python (jetix)",
   "language": "python",
   "name": "jetix"
  },
  "language_info": {
   "codemirror_mode": {
    "name": "ipython",
    "version": 3
   },
   "file_extension": ".py",
   "mimetype": "text/x-python",
   "name": "python",
   "nbconvert_exporter": "python",
   "pygments_lexer": "ipython3",
   "version": "3.10.0"
  }
 },
 "nbformat": 4,
 "nbformat_minor": 5
}

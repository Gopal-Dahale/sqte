{
 "cells": [
  {
   "cell_type": "code",
   "execution_count": 1,
   "id": "cb8d5aee-2964-437f-b1a4-eecb96a96380",
   "metadata": {},
   "outputs": [],
   "source": [
    "from multiprocessing import Pool\n",
    "from time import time\n",
    "\n",
    "import ipywidgets as widgets\n",
    "import jax\n",
    "import jax.numpy as jnp\n",
    "import matplotlib.pyplot as plt\n",
    "import numpy as np\n",
    "import pennylane as qml\n",
    "import scipy\n",
    "from IPython.display import clear_output, display\n",
    "from ipywidgets import FloatSlider, interact\n",
    "from pennylane.devices.qubit import apply_operation, create_initial_state\n",
    "from scipy.sparse import coo_matrix, spmatrix"
   ]
  },
  {
   "cell_type": "code",
   "execution_count": 77,
   "id": "8e1a6b19-3435-4a17-b833-0e6fde91fd08",
   "metadata": {},
   "outputs": [],
   "source": [
    "def tfim_hamiltonian(n, J=1.0, h=1.0):\n",
    "    coeffs = []\n",
    "    ops = []\n",
    "\n",
    "    # ZZ interaction terms\n",
    "    for i in range(n - 1):\n",
    "        coeffs.append(J)\n",
    "        ops.append(qml.PauliZ(i) @ qml.PauliZ(i + 1))\n",
    "\n",
    "    # Transverse field terms (X terms)\n",
    "    # for i in range(n):\n",
    "    #     coeffs.append(h)\n",
    "    #     ops.append(qml.PauliX(i))\n",
    "\n",
    "    return qml.Hamiltonian(coeffs, ops)\n",
    "\n",
    "\n",
    "n_qubits = 12\n",
    "J = 2.0\n",
    "h = 0.5\n",
    "H = tfim_hamiltonian(n_qubits, J=J, h=h)"
   ]
  },
  {
   "cell_type": "markdown",
   "id": "4f083a1b-6db3-4f1f-b418-fd196dc0d4d0",
   "metadata": {},
   "source": [
    "## Exact"
   ]
  },
  {
   "cell_type": "code",
   "execution_count": 78,
   "id": "0dd499a2-90ef-4cb3-a586-32c96222f1f3",
   "metadata": {},
   "outputs": [
    {
     "name": "stdout",
     "output_type": "stream",
     "text": [
      "Time evolution duration: 0.3685 sec\n"
     ]
    },
    {
     "data": {
      "text/plain": [
       "(4096,)"
      ]
     },
     "execution_count": 78,
     "metadata": {},
     "output_type": "execute_result"
    }
   ],
   "source": [
    "start = time()\n",
    "t = np.pi / 2\n",
    "U = jax.scipy.linalg.expm(-1j * t * qml.matrix(H))\n",
    "\n",
    "# evolve equal superposition state\n",
    "psi_0 = np.ones(2**n_qubits)/np.sqrt(2**n_qubits)\n",
    "sv_exact = U @ psi_0\n",
    "\n",
    "print(f\"Time evolution duration: {time() - start:.4f} sec\")\n",
    "sv_exact.shape"
   ]
  },
  {
   "cell_type": "markdown",
   "id": "12a994c6-c8a6-45b1-9234-b75070f65b14",
   "metadata": {},
   "source": [
    "## Trotter Sampling"
   ]
  },
  {
   "cell_type": "code",
   "execution_count": 104,
   "id": "631f4b56-1be9-4ac6-ba02-08fb0d45a5dd",
   "metadata": {},
   "outputs": [
    {
     "data": {
      "text/plain": [
       "(3000, 12)"
      ]
     },
     "execution_count": 104,
     "metadata": {},
     "output_type": "execute_result"
    }
   ],
   "source": [
    "n_shots = 3000\n",
    "key = jax.random.PRNGKey(0)\n",
    "dev = qml.device(\"default.qubit\", wires=n_qubits, shots=n_shots, seed=key)\n",
    "\n",
    "n_trot = 1\n",
    "\n",
    "\n",
    "def trot_circ(t, J, h):\n",
    "    for step in range(n_trot):\n",
    "\n",
    "        # ZZ interaction terms\n",
    "        for i in range(n_qubits - 1):\n",
    "            theta = 2 * t * J / n_trot\n",
    "            qml.PauliRot(theta, \"ZZ\", [i, i + 1])\n",
    "\n",
    "        # Transverse field terms (X terms)\n",
    "        for i in range(n_qubits):\n",
    "            theta = 2 * t * h / n_trot\n",
    "            qml.PauliRot(theta, \"X\", [i])\n",
    "\n",
    "\n",
    "@jax.jit\n",
    "@qml.qnode(dev, interface=\"jax\")\n",
    "def circuit(params):\n",
    "    trot_circ(*params)\n",
    "    return qml.sample()\n",
    "\n",
    "\n",
    "samples = circuit((t, J, h))\n",
    "samples.shape"
   ]
  },
  {
   "cell_type": "code",
   "execution_count": 105,
   "id": "38f26464-7513-41ac-8a48-1e8b0210138b",
   "metadata": {},
   "outputs": [
    {
     "data": {
      "text/plain": [
       "(2164, 12)"
      ]
     },
     "execution_count": 105,
     "metadata": {},
     "output_type": "execute_result"
    }
   ],
   "source": [
    "# Need to sort the binary rows and remove duplicates\n",
    "# for large integers, maybe try numpy lexsort\n",
    "\n",
    "decimal_values = jnp.array([int(\"\".join(map(str, row)), 2) for row in samples])\n",
    "_, indices = jnp.unique(decimal_values, return_index=True)\n",
    "samples = samples[indices]\n",
    "samples.shape"
   ]
  },
  {
   "cell_type": "code",
   "execution_count": 106,
   "id": "9ebe8e93-0b09-4198-bc29-6621c2ab4520",
   "metadata": {},
   "outputs": [
    {
     "data": {
      "text/plain": [
       "(4096, 4096)"
      ]
     },
     "execution_count": 106,
     "metadata": {},
     "output_type": "execute_result"
    }
   ],
   "source": [
    "# directly creating dense operator\n",
    "H_mat = qml.matrix(H)\n",
    "H_mat.shape"
   ]
  },
  {
   "cell_type": "code",
   "execution_count": 107,
   "id": "7c9fcfdc-219b-4c39-9a92-58d5ab8343e6",
   "metadata": {},
   "outputs": [
    {
     "data": {
      "text/plain": [
       "(2164, 2164)"
      ]
     },
     "execution_count": 107,
     "metadata": {},
     "output_type": "execute_result"
    }
   ],
   "source": [
    "decimal_values = jnp.array([int(\"\".join(map(str, row)), 2) for row in samples])\n",
    "\n",
    "idxs = np.ix_(decimal_values, decimal_values)\n",
    "H_proj = H_mat[idxs]\n",
    "H_proj.shape"
   ]
  },
  {
   "cell_type": "code",
   "execution_count": 108,
   "id": "001044f9-a204-4b94-a260-d020037bebf7",
   "metadata": {},
   "outputs": [
    {
     "data": {
      "text/plain": [
       "True"
      ]
     },
     "execution_count": 108,
     "metadata": {},
     "output_type": "execute_result"
    }
   ],
   "source": [
    "# another way to get projected hamiltonian\n",
    "# use a projector matrix\n",
    "\n",
    "P = np.zeros((2**n_qubits, samples.shape[0]))\n",
    "for i, val in enumerate(decimal_values):\n",
    "    P[val, i] = 1\n",
    "\n",
    "H_proj2 = P.T @ H_mat @ P\n",
    "np.allclose(H_proj, H_proj2)"
   ]
  },
  {
   "cell_type": "code",
   "execution_count": 109,
   "id": "458e2fee-624a-4a13-859d-5a502e4ba78d",
   "metadata": {},
   "outputs": [
    {
     "name": "stdout",
     "output_type": "stream",
     "text": [
      "True\n"
     ]
    },
    {
     "data": {
      "text/plain": [
       "Array(0.52829397, dtype=float32)"
      ]
     },
     "execution_count": 109,
     "metadata": {},
     "output_type": "execute_result"
    }
   ],
   "source": [
    "# initial state projection\n",
    "# if initial state in original space was |00...0> then\n",
    "# it requires that |00...0> is present in the subspace\n",
    "# else we get a vector will all zeros. \n",
    "\n",
    "# we start with superposition state\n",
    "\n",
    "# project it into subspace\n",
    "psi_0_sub = P.T @ psi_0\n",
    "psi_0_sub /= jnp.linalg.norm(psi_0_sub)\n",
    "\n",
    "# Time-evolved state in subspace\n",
    "U_sub = jax.scipy.linalg.expm(-1j * t * H_proj) \n",
    "sv_sub = U_sub @ psi_0_sub  \n",
    "\n",
    "# Map back to full space\n",
    "sv_sub_prime = P @ sv_sub  # (8,)\n",
    "print(jnp.allclose(jnp.linalg.norm(sv_sub_prime), 1.0))\n",
    "\n",
    "# Compute fidelity\n",
    "fidelity = jnp.abs(jnp.vdot(sv_exact, sv_sub_prime))**2\n",
    "fidelity"
   ]
  },
  {
   "cell_type": "code",
   "execution_count": null,
   "id": "fdc8f0d0-b6ed-4a7c-8bda-b4032ef3d649",
   "metadata": {},
   "outputs": [],
   "source": []
  },
  {
   "cell_type": "code",
   "execution_count": null,
   "id": "08d2fe2f-cab5-43ef-8a9c-8e4bdd0f5e50",
   "metadata": {},
   "outputs": [],
   "source": [
    "# project to subspace\n",
    "# below logic isnt working as expected\n",
    "# TODO: fix logic\n",
    "\n",
    "# @jax.jit\n",
    "# def connected_elements_and_amplitudes_bool(bitstring, diag, sign, imag):\n",
    "#     \"\"\"Find the connected element to computational basis state |X>.\"\"\"\n",
    "#     bitstring_mask = (bitstring == diag)\n",
    "#     return bitstring_mask.astype(int), jnp.prod(\n",
    "#         (-1) ** (jnp.logical_and(bitstring, sign))\n",
    "#         * jnp.array(1j, dtype=\"complex64\") ** (imag)\n",
    "#     )\n",
    "\n",
    "# batch_conn = jax.vmap(connected_elements_and_amplitudes_bool, (0, None, None, None))\n",
    "\n",
    "# vec_ops = qml.pauli.observables_to_binary_matrix(H.ops)\n",
    "\n",
    "# d = samples.shape[0]\n",
    "# operator = coo_matrix((d, d), dtype=\"complex128\")\n",
    "\n",
    "# for coeff, op, vec_op in zip(H.coeffs, H.ops, vec_ops):\n",
    "#     d, n = samples.shape\n",
    "#     row_ids = np.arange(d)\n",
    "\n",
    "#     # qubit wise representation\n",
    "#     diag = vec_op[:n]\n",
    "#     sign = vec_op[n:]\n",
    "#     imag = np.logical_and(diag, sign).astype(int)\n",
    "\n",
    "#     # print(op)\n",
    "#     # print(diag)\n",
    "#     # print(sign)\n",
    "\n",
    "#     # convert to int\n",
    "#     decimal_values = jnp.array([int(\"\".join(map(str, row)), 2) for row in samples])\n",
    "#     samples_conn, amplitudes = batch_conn(samples, diag, sign, imag)\n",
    "    \n",
    "#     decimal_conn = jnp.array([int(\"\".join(map(str, row)), 2) for row in samples_conn])\n",
    "#     conn_mask = np.isin(decimal_conn, decimal_values, assume_unique=True, kind=\"sort\")\n",
    "\n",
    "#     # keep samples that are represented both in the original samples and connected elements\n",
    "#     amplitudes = amplitudes[conn_mask]\n",
    "#     decimal_conn = decimal_conn[conn_mask]\n",
    "#     row_ids = row_ids[conn_mask]\n",
    "\n",
    "#     # Get column indices of non-zero matrix elements\n",
    "#     col_ids = np.searchsorted(decimal_values, decimal_conn)\n",
    "\n",
    "#     # print(amplitudes)\n",
    "#     # print(row_ids)\n",
    "#     # print(col_ids)\n",
    "    \n",
    "#     operator += coeff * coo_matrix((amplitudes, (row_ids, col_ids)), (d, d))\n",
    "#     # print('-'*100)"
   ]
  }
 ],
 "metadata": {
  "kernelspec": {
   "display_name": "Python (jetix)",
   "language": "python",
   "name": "jetix"
  },
  "language_info": {
   "codemirror_mode": {
    "name": "ipython",
    "version": 3
   },
   "file_extension": ".py",
   "mimetype": "text/x-python",
   "name": "python",
   "nbconvert_exporter": "python",
   "pygments_lexer": "ipython3",
   "version": "3.10.0"
  }
 },
 "nbformat": 4,
 "nbformat_minor": 5
}

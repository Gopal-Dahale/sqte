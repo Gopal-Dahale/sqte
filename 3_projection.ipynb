{
 "cells": [
  {
   "cell_type": "markdown",
   "id": "e93d7148-4f8b-45b9-a110-2c10a9d644a4",
   "metadata": {},
   "source": [
    "# Projection\n",
    "\n",
    "[![Open In Colab](https://colab.research.google.com/assets/colab-badge.svg)](https://colab.research.google.com/github/Gopal-Dahale/sqte/blob/main/3_projection.ipynb)\n",
    "\n",
    "## Setup"
   ]
  },
  {
   "cell_type": "code",
   "execution_count": null,
   "id": "1fabe991-9897-4983-9199-42b0573bdadb",
   "metadata": {},
   "outputs": [],
   "source": [
    "# !pip install -q pennylane"
   ]
  },
  {
   "cell_type": "code",
   "execution_count": 2,
   "id": "cb8d5aee-2964-437f-b1a4-eecb96a96380",
   "metadata": {},
   "outputs": [],
   "source": [
    "from multiprocessing import Pool\n",
    "from time import time\n",
    "\n",
    "import ipywidgets as widgets\n",
    "import jax\n",
    "import jax.numpy as jnp\n",
    "import matplotlib.pyplot as plt\n",
    "import numpy as np\n",
    "import pennylane as qml\n",
    "import scipy\n",
    "from IPython.display import clear_output, display\n",
    "from ipywidgets import FloatSlider, interact\n",
    "from pennylane.devices.qubit import apply_operation, create_initial_state\n",
    "from scipy.sparse import coo_matrix, spmatrix\n",
    "from functools import partial"
   ]
  },
  {
   "cell_type": "code",
   "execution_count": 3,
   "id": "8e1a6b19-3435-4a17-b833-0e6fde91fd08",
   "metadata": {},
   "outputs": [],
   "source": [
    "def tfim_hamiltonian(n, J=1.0, h=1.0):\n",
    "    coeffs = []\n",
    "    ops = []\n",
    "\n",
    "    # ZZ interaction terms\n",
    "    for i in range(n - 1):\n",
    "        coeffs.append(J)\n",
    "        ops.append(qml.PauliZ(i) @ qml.PauliZ(i + 1))\n",
    "\n",
    "    # Transverse field terms (X terms)\n",
    "    for i in range(n):\n",
    "        coeffs.append(h)\n",
    "        ops.append(qml.PauliX(i))\n",
    "\n",
    "    return qml.Hamiltonian(coeffs, ops)\n",
    "\n",
    "\n",
    "n_qubits = 10\n",
    "J = 2.0\n",
    "h = 0.5\n",
    "H = tfim_hamiltonian(n_qubits, J=J, h=h)"
   ]
  },
  {
   "cell_type": "markdown",
   "id": "4f083a1b-6db3-4f1f-b418-fd196dc0d4d0",
   "metadata": {},
   "source": [
    "## Exact"
   ]
  },
  {
   "cell_type": "code",
   "execution_count": 4,
   "id": "0dd499a2-90ef-4cb3-a586-32c96222f1f3",
   "metadata": {},
   "outputs": [
    {
     "name": "stderr",
     "output_type": "stream",
     "text": [
      "An NVIDIA GPU may be present on this machine, but a CUDA-enabled jaxlib is not installed. Falling back to cpu.\n"
     ]
    },
    {
     "name": "stdout",
     "output_type": "stream",
     "text": [
      "Time evolution duration: 0.3793 sec\n"
     ]
    }
   ],
   "source": [
    "start = time()\n",
    "t = np.pi / 4\n",
    "U = jax.scipy.linalg.expm(-1j * t * qml.matrix(H))\n",
    "\n",
    "# evolve equal superposition state\n",
    "# psi_0 = np.ones(2**n_qubits)/ np.sqrt(2**n_qubits)\n",
    "\n",
    "# sv_exact = U @ psi_0\n",
    "\n",
    "print(f\"Time evolution duration: {time() - start:.4f} sec\")\n",
    "# sv_exact.shape"
   ]
  },
  {
   "cell_type": "markdown",
   "id": "12a994c6-c8a6-45b1-9234-b75070f65b14",
   "metadata": {},
   "source": [
    "## Trotter Sampling"
   ]
  },
  {
   "cell_type": "code",
   "execution_count": 22,
   "id": "631f4b56-1be9-4ac6-ba02-08fb0d45a5dd",
   "metadata": {},
   "outputs": [
    {
     "data": {
      "text/plain": [
       "((16,), (1000, 4))"
      ]
     },
     "execution_count": 22,
     "metadata": {},
     "output_type": "execute_result"
    }
   ],
   "source": [
    "n_shots = 1000\n",
    "key = jax.random.PRNGKey(0)\n",
    "\n",
    "dev_sampler = qml.device(\"default.qubit\", wires=n_qubits, shots=n_shots, seed=key)\n",
    "dev = qml.device(\"default.qubit\", wires=n_qubits)\n",
    "\n",
    "def trot_circ(t, J, h, ntrot):\n",
    "    for step in range(ntrot):\n",
    "\n",
    "        # ZZ interaction terms\n",
    "        for i in range(n_qubits - 1):\n",
    "            theta = 2 * t * J / ntrot\n",
    "            qml.PauliRot(theta, \"ZZ\", [i, i + 1])\n",
    "\n",
    "        # Transverse field terms (X terms)\n",
    "        for i in range(n_qubits):\n",
    "            theta = 2 * t * h / ntrot\n",
    "            qml.PauliRot(theta, \"X\", [i])\n",
    "\n",
    "\n",
    "def circuit(params, ntrot):\n",
    "    \n",
    "    # initial state: equal superposition\n",
    "    for i in range(n_qubits):\n",
    "        qml.Hadamard(i)\n",
    "        \n",
    "    t, J, h = params\n",
    "    trot_circ(t, J, h, ntrot)\n",
    "\n",
    "@partial(jax.jit, static_argnums=1)\n",
    "@qml.qnode(dev, interface='jax')\n",
    "def sv_circ(params, ntrot):\n",
    "    circuit(params, ntrot)\n",
    "    return qml.state()\n",
    "\n",
    "@partial(jax.jit, static_argnums=1)\n",
    "@qml.qnode(dev_sampler, interface='jax')\n",
    "def sampler_circ(params, ntrot):\n",
    "    circuit(params, ntrot)\n",
    "    return qml.sample()\n",
    "\n",
    "state = sv_circ((t, J, h), 2)\n",
    "samples = sampler_circ((t, J, h), 1)\n",
    "state.shape, samples.shape"
   ]
  },
  {
   "cell_type": "code",
   "execution_count": 23,
   "id": "8be8f566-7502-4026-907a-24d32f35b6ce",
   "metadata": {},
   "outputs": [
    {
     "data": {
      "text/plain": [
       "Array(0.99400723, dtype=float32)"
      ]
     },
     "execution_count": 23,
     "metadata": {},
     "output_type": "execute_result"
    }
   ],
   "source": [
    "jnp.abs(jnp.vdot(sv_exact, state))"
   ]
  },
  {
   "cell_type": "code",
   "execution_count": 24,
   "id": "38f26464-7513-41ac-8a48-1e8b0210138b",
   "metadata": {},
   "outputs": [
    {
     "data": {
      "text/plain": [
       "(16, 4)"
      ]
     },
     "execution_count": 24,
     "metadata": {},
     "output_type": "execute_result"
    }
   ],
   "source": [
    "# Need to sort the binary rows and remove duplicates\n",
    "# for large integers, maybe try numpy lexsort\n",
    "\n",
    "decimal_values = jnp.array([int(\"\".join(map(str, row)), 2) for row in samples])\n",
    "_, indices = jnp.unique(decimal_values, return_index=True)\n",
    "samples = samples[indices]\n",
    "samples.shape"
   ]
  },
  {
   "cell_type": "code",
   "execution_count": 25,
   "id": "689ff6ec-8f48-47dc-a9fa-845906a824b9",
   "metadata": {},
   "outputs": [
    {
     "data": {
      "text/plain": [
       "Array([[0, 0, 0, 0],\n",
       "       [0, 0, 0, 1],\n",
       "       [0, 0, 1, 0],\n",
       "       [0, 0, 1, 1],\n",
       "       [0, 1, 0, 0],\n",
       "       [0, 1, 0, 1],\n",
       "       [0, 1, 1, 0],\n",
       "       [0, 1, 1, 1],\n",
       "       [1, 0, 0, 0],\n",
       "       [1, 0, 0, 1],\n",
       "       [1, 0, 1, 0],\n",
       "       [1, 0, 1, 1],\n",
       "       [1, 1, 0, 0],\n",
       "       [1, 1, 0, 1],\n",
       "       [1, 1, 1, 0],\n",
       "       [1, 1, 1, 1]], dtype=int32)"
      ]
     },
     "execution_count": 25,
     "metadata": {},
     "output_type": "execute_result"
    }
   ],
   "source": [
    "samples"
   ]
  },
  {
   "cell_type": "code",
   "execution_count": 26,
   "id": "9ebe8e93-0b09-4198-bc29-6621c2ab4520",
   "metadata": {},
   "outputs": [
    {
     "data": {
      "text/plain": [
       "(16, 16)"
      ]
     },
     "execution_count": 26,
     "metadata": {},
     "output_type": "execute_result"
    }
   ],
   "source": [
    "# directly creating dense operator\n",
    "H_mat = qml.matrix(H)\n",
    "H_mat.shape"
   ]
  },
  {
   "cell_type": "code",
   "execution_count": 27,
   "id": "7c9fcfdc-219b-4c39-9a92-58d5ab8343e6",
   "metadata": {},
   "outputs": [
    {
     "data": {
      "text/plain": [
       "(16, 16)"
      ]
     },
     "execution_count": 27,
     "metadata": {},
     "output_type": "execute_result"
    }
   ],
   "source": [
    "decimal_values = jnp.array([int(\"\".join(map(str, row)), 2) for row in samples])\n",
    "\n",
    "idxs = np.ix_(decimal_values, decimal_values)\n",
    "H_proj = H_mat[idxs]\n",
    "H_proj.shape"
   ]
  },
  {
   "cell_type": "code",
   "execution_count": 28,
   "id": "6cdf9a5d-f414-4a39-9edf-612b2b59ac16",
   "metadata": {},
   "outputs": [
    {
     "data": {
      "text/plain": [
       "array([[ 6. ,  0.5,  0.5,  0. ,  0.5,  0. ,  0. ,  0. ,  0.5,  0. ,  0. ,\n",
       "         0. ,  0. ,  0. ,  0. ,  0. ],\n",
       "       [ 0.5,  2. ,  0. ,  0.5,  0. ,  0.5,  0. ,  0. ,  0. ,  0.5,  0. ,\n",
       "         0. ,  0. ,  0. ,  0. ,  0. ],\n",
       "       [ 0.5,  0. , -2. ,  0.5,  0. ,  0. ,  0.5,  0. ,  0. ,  0. ,  0.5,\n",
       "         0. ,  0. ,  0. ,  0. ,  0. ],\n",
       "       [ 0. ,  0.5,  0.5,  2. ,  0. ,  0. ,  0. ,  0.5,  0. ,  0. ,  0. ,\n",
       "         0.5,  0. ,  0. ,  0. ,  0. ],\n",
       "       [ 0.5,  0. ,  0. ,  0. , -2. ,  0.5,  0.5,  0. ,  0. ,  0. ,  0. ,\n",
       "         0. ,  0.5,  0. ,  0. ,  0. ],\n",
       "       [ 0. ,  0.5,  0. ,  0. ,  0.5, -6. ,  0. ,  0.5,  0. ,  0. ,  0. ,\n",
       "         0. ,  0. ,  0.5,  0. ,  0. ],\n",
       "       [ 0. ,  0. ,  0.5,  0. ,  0.5,  0. , -2. ,  0.5,  0. ,  0. ,  0. ,\n",
       "         0. ,  0. ,  0. ,  0.5,  0. ],\n",
       "       [ 0. ,  0. ,  0. ,  0.5,  0. ,  0.5,  0.5,  2. ,  0. ,  0. ,  0. ,\n",
       "         0. ,  0. ,  0. ,  0. ,  0.5],\n",
       "       [ 0.5,  0. ,  0. ,  0. ,  0. ,  0. ,  0. ,  0. ,  2. ,  0.5,  0.5,\n",
       "         0. ,  0.5,  0. ,  0. ,  0. ],\n",
       "       [ 0. ,  0.5,  0. ,  0. ,  0. ,  0. ,  0. ,  0. ,  0.5, -2. ,  0. ,\n",
       "         0.5,  0. ,  0.5,  0. ,  0. ],\n",
       "       [ 0. ,  0. ,  0.5,  0. ,  0. ,  0. ,  0. ,  0. ,  0.5,  0. , -6. ,\n",
       "         0.5,  0. ,  0. ,  0.5,  0. ],\n",
       "       [ 0. ,  0. ,  0. ,  0.5,  0. ,  0. ,  0. ,  0. ,  0. ,  0.5,  0.5,\n",
       "        -2. ,  0. ,  0. ,  0. ,  0.5],\n",
       "       [ 0. ,  0. ,  0. ,  0. ,  0.5,  0. ,  0. ,  0. ,  0.5,  0. ,  0. ,\n",
       "         0. ,  2. ,  0.5,  0.5,  0. ],\n",
       "       [ 0. ,  0. ,  0. ,  0. ,  0. ,  0.5,  0. ,  0. ,  0. ,  0.5,  0. ,\n",
       "         0. ,  0.5, -2. ,  0. ,  0.5],\n",
       "       [ 0. ,  0. ,  0. ,  0. ,  0. ,  0. ,  0.5,  0. ,  0. ,  0. ,  0.5,\n",
       "         0. ,  0.5,  0. ,  2. ,  0.5],\n",
       "       [ 0. ,  0. ,  0. ,  0. ,  0. ,  0. ,  0. ,  0.5,  0. ,  0. ,  0. ,\n",
       "         0.5,  0. ,  0.5,  0.5,  6. ]])"
      ]
     },
     "execution_count": 28,
     "metadata": {},
     "output_type": "execute_result"
    }
   ],
   "source": [
    "H_proj.real"
   ]
  },
  {
   "cell_type": "code",
   "execution_count": 29,
   "id": "001044f9-a204-4b94-a260-d020037bebf7",
   "metadata": {},
   "outputs": [
    {
     "data": {
      "text/plain": [
       "True"
      ]
     },
     "execution_count": 29,
     "metadata": {},
     "output_type": "execute_result"
    }
   ],
   "source": [
    "# another way to get projected hamiltonian\n",
    "# use a projector matrix\n",
    "\n",
    "P = np.zeros((2**n_qubits, samples.shape[0]))\n",
    "for i, val in enumerate(decimal_values):\n",
    "    P[val, i] = 1\n",
    "\n",
    "H_proj2 = P.T @ H_mat @ P\n",
    "np.allclose(H_proj, H_proj2)"
   ]
  },
  {
   "cell_type": "code",
   "execution_count": 30,
   "id": "1569d3a5-3937-41e0-9179-5e42aa2520d6",
   "metadata": {},
   "outputs": [
    {
     "data": {
      "text/plain": [
       "array([[1., 0., 0., 0., 0., 0., 0., 0., 0., 0., 0., 0., 0., 0., 0., 0.],\n",
       "       [0., 1., 0., 0., 0., 0., 0., 0., 0., 0., 0., 0., 0., 0., 0., 0.],\n",
       "       [0., 0., 1., 0., 0., 0., 0., 0., 0., 0., 0., 0., 0., 0., 0., 0.],\n",
       "       [0., 0., 0., 1., 0., 0., 0., 0., 0., 0., 0., 0., 0., 0., 0., 0.],\n",
       "       [0., 0., 0., 0., 1., 0., 0., 0., 0., 0., 0., 0., 0., 0., 0., 0.],\n",
       "       [0., 0., 0., 0., 0., 1., 0., 0., 0., 0., 0., 0., 0., 0., 0., 0.],\n",
       "       [0., 0., 0., 0., 0., 0., 1., 0., 0., 0., 0., 0., 0., 0., 0., 0.],\n",
       "       [0., 0., 0., 0., 0., 0., 0., 1., 0., 0., 0., 0., 0., 0., 0., 0.],\n",
       "       [0., 0., 0., 0., 0., 0., 0., 0., 1., 0., 0., 0., 0., 0., 0., 0.],\n",
       "       [0., 0., 0., 0., 0., 0., 0., 0., 0., 1., 0., 0., 0., 0., 0., 0.],\n",
       "       [0., 0., 0., 0., 0., 0., 0., 0., 0., 0., 1., 0., 0., 0., 0., 0.],\n",
       "       [0., 0., 0., 0., 0., 0., 0., 0., 0., 0., 0., 1., 0., 0., 0., 0.],\n",
       "       [0., 0., 0., 0., 0., 0., 0., 0., 0., 0., 0., 0., 1., 0., 0., 0.],\n",
       "       [0., 0., 0., 0., 0., 0., 0., 0., 0., 0., 0., 0., 0., 1., 0., 0.],\n",
       "       [0., 0., 0., 0., 0., 0., 0., 0., 0., 0., 0., 0., 0., 0., 1., 0.],\n",
       "       [0., 0., 0., 0., 0., 0., 0., 0., 0., 0., 0., 0., 0., 0., 0., 1.]])"
      ]
     },
     "execution_count": 30,
     "metadata": {},
     "output_type": "execute_result"
    }
   ],
   "source": [
    "P"
   ]
  },
  {
   "cell_type": "code",
   "execution_count": 31,
   "id": "458e2fee-624a-4a13-859d-5a502e4ba78d",
   "metadata": {},
   "outputs": [
    {
     "name": "stdout",
     "output_type": "stream",
     "text": [
      "Norm of psi_0_sub: 1.0\n",
      "Norm of sv_sub_prime: 0.99999994\n",
      "Fidelity between full-space and subspace evolution: 1.0\n"
     ]
    }
   ],
   "source": [
    "# initial state projection\n",
    "# if initial state in original space was |00...0> then\n",
    "# it requires that |00...0> is present in the subspace\n",
    "# else we get a vector will all zeros. \n",
    "\n",
    "# we start with superposition state\n",
    "# project it into subspace\n",
    "psi_0_sub = P.T @ psi_0\n",
    "print(\"Norm of psi_0_sub:\", jnp.linalg.norm(psi_0_sub))\n",
    "\n",
    "# normalize if needed\n",
    "if not jnp.allclose(jnp.linalg.norm(psi_0_sub), 1.0):\n",
    "    psi_0_sub /= jnp.linalg.norm(psi_0_sub)\n",
    "\n",
    "# Time-evolved state in subspace\n",
    "U_sub = jax.scipy.linalg.expm(-1j * t * H_proj) \n",
    "sv_sub = U_sub @ psi_0_sub  \n",
    "\n",
    "# Map back to full space\n",
    "sv_sub_prime = P @ sv_sub \n",
    "print(\"Norm of sv_sub_prime:\", jnp.linalg.norm(sv_sub_prime))\n",
    "\n",
    "# normalize if need\n",
    "if not jnp.allclose(jnp.linalg.norm(sv_sub_prime), 1.0):\n",
    "    sv_sub_prime /= jnp.linalg.norm(sv_sub_prime)\n",
    "\n",
    "# Compute fidelity\n",
    "fidelity = jnp.abs(jnp.vdot(sv_exact, sv_sub_prime))**2\n",
    "\n",
    "print(\"Fidelity between full-space and subspace evolution:\", fidelity)"
   ]
  },
  {
   "cell_type": "code",
   "execution_count": 20,
   "id": "1da13a4c-df7d-49a2-b4e6-e1f57183953d",
   "metadata": {},
   "outputs": [
    {
     "data": {
      "text/plain": [
       "Array([ 0.08967425+0.3915804j , -0.11989825-0.1648028j ,\n",
       "        0.03397639+0.21295951j, -0.20889324-0.26469016j,\n",
       "        0.03397638+0.21295948j,  0.01732782-0.1436491j ,\n",
       "        0.12297151+0.1130721j , -0.11989823-0.16480276j,\n",
       "       -0.1198982 -0.16480279j,  0.1229715 +0.11307213j,\n",
       "        0.01732785-0.14364909j,  0.03397642+0.21295948j,\n",
       "       -0.2088933 -0.26469016j,  0.0339764 +0.21295948j,\n",
       "       -0.11989821-0.16480277j,  0.08967426+0.39158052j], dtype=complex64)"
      ]
     },
     "execution_count": 20,
     "metadata": {},
     "output_type": "execute_result"
    }
   ],
   "source": [
    "sv_exact"
   ]
  },
  {
   "cell_type": "code",
   "execution_count": 21,
   "id": "475dbde2-353e-4654-a2e4-3a9446e4894e",
   "metadata": {},
   "outputs": [
    {
     "data": {
      "text/plain": [
       "Array([ 0.08585875+0.45025557j, -0.11999822-0.19680648j,\n",
       "        0.07696307+0.24587394j, -0.14826289-0.36626562j,\n",
       "        0.07612782+0.20763102j,  0.        +0.j        ,\n",
       "        0.18451348+0.23594446j,  0.        +0.j        ,\n",
       "       -0.12094238-0.22177069j,  0.05088427+0.14680485j,\n",
       "        0.03292241-0.17371812j,  0.05033822+0.23863302j,\n",
       "       -0.12718146-0.3011923j ,  0.        +0.j        ,\n",
       "        0.        +0.j        ,  0.0061716 +0.30002207j], dtype=complex64)"
      ]
     },
     "execution_count": 21,
     "metadata": {},
     "output_type": "execute_result"
    }
   ],
   "source": [
    "sv_sub_prime"
   ]
  }
 ],
 "metadata": {
  "kernelspec": {
   "display_name": "Python (jetix)",
   "language": "python",
   "name": "jetix"
  },
  "language_info": {
   "codemirror_mode": {
    "name": "ipython",
    "version": 3
   },
   "file_extension": ".py",
   "mimetype": "text/x-python",
   "name": "python",
   "nbconvert_exporter": "python",
   "pygments_lexer": "ipython3",
   "version": "3.10.0"
  }
 },
 "nbformat": 4,
 "nbformat_minor": 5
}

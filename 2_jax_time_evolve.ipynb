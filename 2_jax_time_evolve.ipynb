{
 "cells": [
  {
   "cell_type": "code",
   "execution_count": 1,
   "id": "cb8d5aee-2964-437f-b1a4-eecb96a96380",
   "metadata": {},
   "outputs": [],
   "source": [
    "import pennylane as qml\n",
    "import numpy as np\n",
    "from pennylane.devices.qubit import create_initial_state, apply_operation\n",
    "from time import time\n",
    "from multiprocessing import Pool\n",
    "from ipywidgets import interact, FloatSlider\n",
    "import matplotlib.pyplot as plt\n",
    "import ipywidgets as widgets\n",
    "from IPython.display import display, clear_output\n",
    "import scipy\n",
    "import jax\n",
    "import jax.numpy as jnp"
   ]
  },
  {
   "cell_type": "code",
   "execution_count": 2,
   "id": "8e1a6b19-3435-4a17-b833-0e6fde91fd08",
   "metadata": {},
   "outputs": [],
   "source": [
    "def tfim_hamiltonian(n, J = 1.0, h = 1.0):\n",
    "    coeffs = []\n",
    "    ops = []\n",
    "    \n",
    "    # ZZ interaction terms\n",
    "    for i in range(n - 1):\n",
    "        coeffs.append(J)\n",
    "        ops.append(qml.PauliZ(i) @ qml.PauliZ(i + 1))\n",
    "    \n",
    "    # Transverse field terms (X terms)\n",
    "    for i in range(n):\n",
    "        coeffs.append(h)\n",
    "        ops.append(qml.PauliX(i))\n",
    "    \n",
    "    return qml.Hamiltonian(coeffs, ops)\n",
    "\n",
    "H = tfim_hamiltonian(4, J=1.0, h=0.5)"
   ]
  },
  {
   "cell_type": "code",
   "execution_count": 3,
   "id": "66586607-981d-4e83-a387-29a0f65449a8",
   "metadata": {},
   "outputs": [],
   "source": [
    "def insert_zero_sorted(arr):\n",
    "    if 0 in arr:\n",
    "        return arr  # Zero is already present\n",
    "    \n",
    "    # Find the insertion index for zero\n",
    "    idx = np.searchsorted(arr, 0)  # Finds the index where 0 should be inserted\n",
    "    return np.insert(arr, idx, 0)"
   ]
  },
  {
   "cell_type": "code",
   "execution_count": 28,
   "id": "f2703514-3945-4db6-98a2-87a93f74974e",
   "metadata": {},
   "outputs": [
    {
     "name": "stderr",
     "output_type": "stream",
     "text": [
      "/home/gopald/.pyenv/versions/3.10.0/lib/python3.10/multiprocessing/popen_fork.py:66: RuntimeWarning: os.fork() was called. os.fork() is incompatible with multithreaded code, and JAX is multithreaded, so this will likely lead to a deadlock.\n",
      "  self.pid = os.fork()\n"
     ]
    },
    {
     "name": "stdout",
     "output_type": "stream",
     "text": [
      "Hamiltonian precompute time: 0.7661 sec\n"
     ]
    }
   ],
   "source": [
    "J_list = insert_zero_sorted(np.linspace(-2, 2, 20))\n",
    "h_list = insert_zero_sorted(np.linspace(0, 4, 20))\n",
    "t_list = np.linspace(0.1, np.pi, 5)\n",
    "\n",
    "n_qubits = 4\n",
    "state = create_initial_state(range(n_qubits))\n",
    "\n",
    "# Function to generate Hamiltonian for given (J, h)\n",
    "def generate_hamiltonian(params):\n",
    "    J, h = params\n",
    "    return tfim_hamiltonian(n_qubits, J, h)\n",
    "\n",
    "# Parallelize Hamiltonian creation\n",
    "start = time()\n",
    "with Pool() as pool:\n",
    "    H_res = pool.map(generate_hamiltonian, [(J, h) for J in J_list for h in h_list])\n",
    "\n",
    "H_list = jnp.array([qml.matrix(H) for H in H_res])\n",
    "print(f\"Hamiltonian precompute time: {time() - start:.4f} sec\")"
   ]
  },
  {
   "cell_type": "markdown",
   "id": "4f083a1b-6db3-4f1f-b418-fd196dc0d4d0",
   "metadata": {},
   "source": [
    "## Exact"
   ]
  },
  {
   "cell_type": "code",
   "execution_count": 29,
   "id": "0dd499a2-90ef-4cb3-a586-32c96222f1f3",
   "metadata": {},
   "outputs": [
    {
     "name": "stdout",
     "output_type": "stream",
     "text": [
      "Time evolution duration: 0.5201 sec\n"
     ]
    }
   ],
   "source": [
    "start = time()\n",
    "\n",
    "results = []\n",
    "Ht_list = jnp.array([-1j * t * H_list for t in t_list])\n",
    "results = jax.scipy.linalg.expm(Ht_list)[:, :, 0] # statevector\n",
    "results = results.reshape(len(t_list), len(J_list), len(h_list), 2**n_qubits)\n",
    "print(f\"Time evolution duration: {time() - start:.4f} sec\")"
   ]
  },
  {
   "cell_type": "code",
   "execution_count": 30,
   "id": "660477fc-035c-4d05-9f87-4d8f3314443c",
   "metadata": {},
   "outputs": [
    {
     "data": {
      "text/plain": [
       "(5, 21, 20, 16)"
      ]
     },
     "execution_count": 30,
     "metadata": {},
     "output_type": "execute_result"
    }
   ],
   "source": [
    "results.shape"
   ]
  },
  {
   "cell_type": "markdown",
   "id": "12a994c6-c8a6-45b1-9234-b75070f65b14",
   "metadata": {},
   "source": [
    "## Trotter"
   ]
  },
  {
   "cell_type": "code",
   "execution_count": 31,
   "id": "631f4b56-1be9-4ac6-ba02-08fb0d45a5dd",
   "metadata": {},
   "outputs": [
    {
     "data": {
      "text/plain": [
       "(5, 21, 20, 16)"
      ]
     },
     "execution_count": 31,
     "metadata": {},
     "output_type": "execute_result"
    }
   ],
   "source": [
    "dev = qml.device('default.qubit', wires=n_qubits)\n",
    "\n",
    "n_trot = 1\n",
    "\n",
    "def trot_circ(t, J, h):\n",
    "    for step in range(n_trot):  \n",
    "        \n",
    "        # ZZ interaction terms\n",
    "        for i in range(n_qubits - 1):\n",
    "            theta = 2 * t * J / n_trot\n",
    "            qml.PauliRot(theta, \"ZZ\", [i, i+1])\n",
    "            \n",
    "        # Transverse field terms (X terms)\n",
    "        for i in range(n_qubits):\n",
    "            theta = 2 * t * h / n_trot\n",
    "            qml.PauliRot(theta, \"X\", [i])\n",
    "\n",
    "@jax.jit\n",
    "@qml.qnode(dev, interface='jax')\n",
    "def circuit(params):\n",
    "    trot_circ(*params)\n",
    "    return qml.state()\n",
    "\n",
    "vcircuit = jax.vmap(circuit)\n",
    "\n",
    "A, B, C = np.meshgrid(t_list, J_list, h_list, indexing='ij')\n",
    "params = np.vstack([A.ravel(), B.ravel(), C.ravel()]).T\n",
    "results_trot = vcircuit(params).reshape(len(t_list), len(J_list), len(h_list), 2**n_qubits)\n",
    "results_trot.shape"
   ]
  },
  {
   "cell_type": "markdown",
   "id": "29d1b83e-9709-46ae-b8e4-e2be7e1fe461",
   "metadata": {},
   "source": [
    "## Sampled"
   ]
  },
  {
   "cell_type": "code",
   "execution_count": 32,
   "id": "36c0fd72-fa66-4f84-be96-70613289d46d",
   "metadata": {},
   "outputs": [],
   "source": [
    "# n_shots = 100\n",
    "# dev = qml.device('default.qubit', wires=n_qubits, shots=n_shots)\n",
    "\n",
    "# @jax.jit\n",
    "# @qml.qnode(dev, interface='jax')\n",
    "# def circuit(params):\n",
    "#     trot_circ(*params)\n",
    "#     return qml.sample()\n",
    "\n",
    "# vcircuit = jax.vmap(circuit)\n",
    "\n",
    "# A, B, C = np.meshgrid(np.array([np.pi/2]), J_list, h_list, indexing='ij')\n",
    "# params = np.vstack([A.ravel(), B.ravel(), C.ravel()]).T\n",
    "\n",
    "# samples = vcircuit(params).reshape(len(J_list), len(h_list), n_shots, n_qubits)\n",
    "\n",
    "# @jax.jit\n",
    "# def remove_duplicates_with_counts(matrix):\n",
    "#     \"\"\"\n",
    "#     Removes duplicate rows from a 2D binary matrix and counts occurrences.\n",
    "#     \"\"\"\n",
    "#     unique_matrix, idx, counts = jnp.unique(matrix, axis=0, return_inverse=True, size=n_shots, return_counts=True)\n",
    "#     return unique_matrix, counts\n",
    "\n",
    "# # Vectorizing across batch dimension\n",
    "# batch_fn = jax.vmap(remove_duplicates_with_counts, in_axes=(0))\n",
    "# batch_fn2 = jax.vmap(batch_fn, in_axes=(0))\n",
    "# bitstring_matrix, probs_arr = batch_fn2(samples)\n",
    "# probs_arr /= n_shots\n",
    "# bitstring_matrix.shape, probs_arr.shape"
   ]
  },
  {
   "cell_type": "code",
   "execution_count": 33,
   "id": "d68342d5-32bd-4bc8-ac44-0032738bb820",
   "metadata": {},
   "outputs": [],
   "source": [
    "# @jax.jit\n",
    "# def _int_conversion_from_bts_array(bit_array):\n",
    "#     \"\"\"Convert a bit array to an integer representation.\n",
    "#     NOTE: This can only handle up to 63 qubits. Then the integer will overflow\n",
    "#     \"\"\"\n",
    "#     n_qubits = len(bit_array)\n",
    "#     bitarray_asint = 0.0\n",
    "#     for i in range(n_qubits):\n",
    "#         bitarray_asint = bitarray_asint + bit_array[i] * 2 ** (n_qubits - 1 - i)\n",
    "#     return bitarray_asint  # type: ignore\n",
    "\n",
    "# _int_conversion_from_bts_matrix_vmap = jax.jit(jax.vmap(_int_conversion_from_bts_array, 0, 0))\n",
    "\n",
    "# @jax.jit\n",
    "# def sort_and_remove_duplicates(bitstring_matrix):\n",
    "#     \"\"\"Sort a bitstring matrix and remove duplicate entries.\n",
    "#     The lowest bitstring values will be placed in the lowest-indexed rows.\n",
    "#     \"\"\"\n",
    "#     bsmat_asints = _int_conversion_from_bts_matrix_vmap(bitstring_matrix)\n",
    "#     _, indices = jnp.unique(bsmat_asints, size=n_shots, return_index=True)\n",
    "#     return bitstring_matrix[indices, :]"
   ]
  },
  {
   "cell_type": "code",
   "execution_count": 34,
   "id": "93df6cdf-5b4a-4aae-998a-5f75eaf62ec6",
   "metadata": {},
   "outputs": [],
   "source": [
    "# bitstring_matrix[3, 4]"
   ]
  },
  {
   "cell_type": "code",
   "execution_count": 35,
   "id": "1f413a8c-ee6f-49b1-924f-cfd24f29bc56",
   "metadata": {},
   "outputs": [],
   "source": [
    "# Define computational basis states\n",
    "x_vals = np.arange(2**n_qubits) \n",
    "cmap = plt.get_cmap(\"tab10\")\n",
    "\n",
    "# Interactive plot function\n",
    "def plot_probabilities(t_idx, J_idx, h_idx):\n",
    "    clear_output(wait=True)  # Speed up rendering by clearing old plots\n",
    "    \n",
    "    psi = results[t_idx, J_idx, h_idx]  # Extract state vector\n",
    "    probabilities = jnp.abs(psi) ** 2  # Compute probabilities\n",
    "\n",
    "    psi_trot = results_trot[t_idx, J_idx, h_idx]\n",
    "    probs_trot = jnp.abs(psi_trot) ** 2 \n",
    "\n",
    "    # Plot\n",
    "    plt.figure(figsize=(12, 5))\n",
    "    width = 0.4\n",
    "    plt.bar(x_vals, probabilities, alpha=0.8, width=width, label='Exact', color=cmap(2), align='center')\n",
    "    plt.bar(x_vals  + width, probs_trot, alpha=0.8, width=width, label='Trotterized', color=cmap(3), align='center')\n",
    "    plt.xlabel(\"Computational Basis State (x)\")\n",
    "    plt.ylabel(\"Probability |ψ(x, t)|²\")\n",
    "    plt.title(f\"TFIM Evolution: $t={t_list[t_idx]:.2f}, J={J_list[J_idx]:.2f}, h={h_list[h_idx]:.2f}$\")\n",
    "    plt.ylim(0, 1)  # Probability range\n",
    "    plt.xticks(x_vals + width/2, x_vals)  # Show x values\n",
    "    plt.legend()\n",
    "    plt.show()"
   ]
  },
  {
   "cell_type": "code",
   "execution_count": 36,
   "id": "9e420872-1c17-42af-bc9a-fe88b558568e",
   "metadata": {},
   "outputs": [
    {
     "data": {
      "application/vnd.jupyter.widget-view+json": {
       "model_id": "ae9c960e43264c40b09311538fd82428",
       "version_major": 2,
       "version_minor": 0
      },
      "text/plain": [
       "VBox(children=(SelectionSlider(description='t', options=(('0.10', 0), ('0.86', 1), ('1.62', 2), ('2.38', 3), (…"
      ]
     },
     "metadata": {},
     "output_type": "display_data"
    },
    {
     "data": {
      "application/vnd.jupyter.widget-view+json": {
       "model_id": "f4f839767bc24338ba9a70007d546a1b",
       "version_major": 2,
       "version_minor": 0
      },
      "text/plain": [
       "Output()"
      ]
     },
     "metadata": {},
     "output_type": "display_data"
    }
   ],
   "source": [
    "# Create sliders with actual values \n",
    "t_slider = widgets.SelectionSlider(options=[(f\"{t:.2f}\", i) for i, t in enumerate(t_list)], description=\"t\")\n",
    "J_slider = widgets.SelectionSlider(options=[(f\"{J:.2f}\", i) for i, J in enumerate(J_list)], description=\"J\")\n",
    "h_slider = widgets.SelectionSlider(options=[(f\"{h:.2f}\", i) for i, h in enumerate(h_list)], description=\"h\")\n",
    "\n",
    "# Create interactive UI\n",
    "ui = widgets.VBox([t_slider, J_slider, h_slider])\n",
    "out = widgets.interactive_output(plot_probabilities, {'t_idx': t_slider, 'J_idx': J_slider, 'h_idx': h_slider})\n",
    "\n",
    "# Display widgets\n",
    "display(ui, out)"
   ]
  },
  {
   "cell_type": "code",
   "execution_count": null,
   "id": "4ec62596-3349-497a-bd0b-01108415d87d",
   "metadata": {},
   "outputs": [],
   "source": []
  }
 ],
 "metadata": {
  "kernelspec": {
   "display_name": "Python (jetix)",
   "language": "python",
   "name": "jetix"
  },
  "language_info": {
   "codemirror_mode": {
    "name": "ipython",
    "version": 3
   },
   "file_extension": ".py",
   "mimetype": "text/x-python",
   "name": "python",
   "nbconvert_exporter": "python",
   "pygments_lexer": "ipython3",
   "version": "3.10.0"
  }
 },
 "nbformat": 4,
 "nbformat_minor": 5
}

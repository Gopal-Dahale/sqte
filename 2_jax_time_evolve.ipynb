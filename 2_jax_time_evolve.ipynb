{
 "cells": [
  {
   "cell_type": "code",
   "execution_count": 1,
   "id": "cb8d5aee-2964-437f-b1a4-eecb96a96380",
   "metadata": {},
   "outputs": [],
   "source": [
    "import pennylane as qml\n",
    "import numpy as np\n",
    "from pennylane.devices.qubit import create_initial_state, apply_operation\n",
    "from time import time\n",
    "from multiprocessing import Pool\n",
    "from ipywidgets import interact, FloatSlider\n",
    "import matplotlib.pyplot as plt\n",
    "import ipywidgets as widgets\n",
    "from IPython.display import display, clear_output\n",
    "import scipy\n",
    "import jax\n",
    "import jax.numpy as jnp"
   ]
  },
  {
   "cell_type": "code",
   "execution_count": 2,
   "id": "8e1a6b19-3435-4a17-b833-0e6fde91fd08",
   "metadata": {},
   "outputs": [],
   "source": [
    "def tfim_hamiltonian(n, J = 1.0, h = 1.0):\n",
    "    coeffs = []\n",
    "    ops = []\n",
    "    \n",
    "    # ZZ interaction terms\n",
    "    for i in range(n - 1):\n",
    "        coeffs.append(J)\n",
    "        ops.append(qml.PauliZ(i) @ qml.PauliZ(i + 1))\n",
    "    \n",
    "    # Transverse field terms (X terms)\n",
    "    for i in range(n):\n",
    "        coeffs.append(h)\n",
    "        ops.append(qml.PauliX(i))\n",
    "    \n",
    "    return qml.Hamiltonian(coeffs, ops)\n",
    "\n",
    "H = tfim_hamiltonian(4, J=1.0, h=0.5)"
   ]
  },
  {
   "cell_type": "code",
   "execution_count": 3,
   "id": "66586607-981d-4e83-a387-29a0f65449a8",
   "metadata": {},
   "outputs": [],
   "source": [
    "def insert_zero_sorted(arr):\n",
    "    if 0 in arr:\n",
    "        return arr  # Zero is already present\n",
    "    \n",
    "    # Find the insertion index for zero\n",
    "    idx = np.searchsorted(arr, 0)  # Finds the index where 0 should be inserted\n",
    "    return np.insert(arr, idx, 0)"
   ]
  },
  {
   "cell_type": "code",
   "execution_count": 4,
   "id": "f2703514-3945-4db6-98a2-87a93f74974e",
   "metadata": {},
   "outputs": [
    {
     "name": "stderr",
     "output_type": "stream",
     "text": [
      "An NVIDIA GPU may be present on this machine, but a CUDA-enabled jaxlib is not installed. Falling back to cpu.\n"
     ]
    },
    {
     "name": "stdout",
     "output_type": "stream",
     "text": [
      "Hamiltonian precompute time: 1.5218 sec\n"
     ]
    }
   ],
   "source": [
    "J_list = insert_zero_sorted(np.linspace(-8, 8, 40))\n",
    "h_list = insert_zero_sorted(np.linspace(-8, 8, 40))\n",
    "t_list = np.linspace(0.1, np.pi, 40)\n",
    "\n",
    "n_qubits = 4\n",
    "state = create_initial_state(range(n_qubits))\n",
    "\n",
    "# Function to generate Hamiltonian for given (J, h)\n",
    "def generate_hamiltonian(params):\n",
    "    J, h = params\n",
    "    return tfim_hamiltonian(n_qubits, J, h)\n",
    "\n",
    "# Parallelize Hamiltonian creation\n",
    "start = time()\n",
    "with Pool() as pool:\n",
    "    H_res = pool.map(generate_hamiltonian, [(J, h) for J in J_list for h in h_list])\n",
    "\n",
    "H_list = jnp.array([qml.matrix(H) for H in H_res])\n",
    "print(f\"Hamiltonian precompute time: {time() - start:.4f} sec\")"
   ]
  },
  {
   "cell_type": "markdown",
   "id": "4f083a1b-6db3-4f1f-b418-fd196dc0d4d0",
   "metadata": {},
   "source": [
    "## Exact"
   ]
  },
  {
   "cell_type": "code",
   "execution_count": 5,
   "id": "0dd499a2-90ef-4cb3-a586-32c96222f1f3",
   "metadata": {},
   "outputs": [
    {
     "name": "stdout",
     "output_type": "stream",
     "text": [
      "Time evolution duration: 0.7280 sec\n"
     ]
    }
   ],
   "source": [
    "start = time()\n",
    "\n",
    "results = []\n",
    "Ht_list = jnp.array([-1j * t * H_list for t in t_list])\n",
    "results = jax.scipy.linalg.expm(Ht_list)[:, :, 0] # statevector\n",
    "results = results.reshape(len(t_list), len(J_list), len(h_list), 2**n_qubits)\n",
    "print(f\"Time evolution duration: {time() - start:.4f} sec\")"
   ]
  },
  {
   "cell_type": "code",
   "execution_count": 6,
   "id": "660477fc-035c-4d05-9f87-4d8f3314443c",
   "metadata": {},
   "outputs": [
    {
     "data": {
      "text/plain": [
       "(40, 41, 41, 16)"
      ]
     },
     "execution_count": 6,
     "metadata": {},
     "output_type": "execute_result"
    }
   ],
   "source": [
    "results.shape"
   ]
  },
  {
   "cell_type": "markdown",
   "id": "12a994c6-c8a6-45b1-9234-b75070f65b14",
   "metadata": {},
   "source": [
    "## Trotter"
   ]
  },
  {
   "cell_type": "code",
   "execution_count": 7,
   "id": "631f4b56-1be9-4ac6-ba02-08fb0d45a5dd",
   "metadata": {},
   "outputs": [
    {
     "data": {
      "text/plain": [
       "(40, 41, 41, 16)"
      ]
     },
     "execution_count": 7,
     "metadata": {},
     "output_type": "execute_result"
    }
   ],
   "source": [
    "dev = qml.device('default.qubit', wires=n_qubits)\n",
    "\n",
    "n_trot = 1\n",
    "\n",
    "def trot_circ(t, J, h):\n",
    "    for step in range(n_trot):  \n",
    "        \n",
    "        # ZZ interaction terms\n",
    "        for i in range(n_qubits - 1):\n",
    "            theta = 2 * t * J / n_trot\n",
    "            qml.PauliRot(theta, \"ZZ\", [i, i+1])\n",
    "            \n",
    "        # Transverse field terms (X terms)\n",
    "        for i in range(n_qubits):\n",
    "            theta = 2 * t * h / n_trot\n",
    "            qml.PauliRot(theta, \"X\", [i])\n",
    "\n",
    "@jax.jit\n",
    "@qml.qnode(dev, interface='jax')\n",
    "def circuit(params):\n",
    "    trot_circ(*params)\n",
    "    return qml.state()\n",
    "\n",
    "vcircuit = jax.vmap(circuit)\n",
    "\n",
    "A, B, C = np.meshgrid(t_list, J_list, h_list, indexing='ij')\n",
    "params = np.vstack([A.ravel(), B.ravel(), C.ravel()]).T\n",
    "results_trot = vcircuit(params).reshape(len(t_list), len(J_list), len(h_list), 2**n_qubits)\n",
    "results_trot.shape"
   ]
  },
  {
   "cell_type": "code",
   "execution_count": 8,
   "id": "1f413a8c-ee6f-49b1-924f-cfd24f29bc56",
   "metadata": {},
   "outputs": [],
   "source": [
    "# Define computational basis states\n",
    "x_vals = np.arange(2**n_qubits) \n",
    "cmap = plt.get_cmap(\"tab10\")\n",
    "\n",
    "# Interactive plot function\n",
    "def plot_probabilities(t_idx, J_idx, h_idx):\n",
    "    clear_output(wait=True)  # Speed up rendering by clearing old plots\n",
    "    \n",
    "    psi = results[t_idx, J_idx, h_idx]  # Extract state vector\n",
    "    probabilities = jnp.abs(psi) ** 2  # Compute probabilities\n",
    "\n",
    "    psi_trot = results_trot[t_idx, J_idx, h_idx]\n",
    "    probs_trot = jnp.abs(psi_trot) ** 2 \n",
    "\n",
    "    # Plot\n",
    "    plt.figure(figsize=(12, 5))\n",
    "    width = 0.4\n",
    "    plt.bar(x_vals, probabilities, alpha=0.8, width=width, label='Exact', color=cmap(2), align='center')\n",
    "    # plt.bar(x_vals  + width, probs_trot, alpha=0.8, width=width, label='Trotterized', color=cmap(3), align='center')\n",
    "    plt.xlabel(\"Computational Basis State (x)\")\n",
    "    plt.ylabel(\"Probability |ψ(x, t)|²\")\n",
    "    plt.title(f\"TFIM Evolution: $t={t_list[t_idx]:.2f}, J={J_list[J_idx]:.2f}, h={h_list[h_idx]:.2f}$\")\n",
    "    # plt.ylim( (pow(10,-1),pow(10,0)) )  # Probability range\n",
    "    plt.xticks(x_vals + width/2, x_vals)  # Show x values\n",
    "    plt.yscale('log')\n",
    "    plt.legend()\n",
    "    plt.show()"
   ]
  },
  {
   "cell_type": "code",
   "execution_count": 9,
   "id": "9e420872-1c17-42af-bc9a-fe88b558568e",
   "metadata": {},
   "outputs": [
    {
     "data": {
      "application/vnd.jupyter.widget-view+json": {
       "model_id": "93c170ccb8c84ca7b2d698063f22306a",
       "version_major": 2,
       "version_minor": 0
      },
      "text/plain": [
       "VBox(children=(SelectionSlider(description='t', options=(('0.10', 0), ('0.18', 1), ('0.26', 2), ('0.33', 3), (…"
      ]
     },
     "metadata": {},
     "output_type": "display_data"
    },
    {
     "data": {
      "application/vnd.jupyter.widget-view+json": {
       "model_id": "5faa8861af5949b7951aca535c2d3514",
       "version_major": 2,
       "version_minor": 0
      },
      "text/plain": [
       "Output()"
      ]
     },
     "metadata": {},
     "output_type": "display_data"
    }
   ],
   "source": [
    "# Create sliders with actual values \n",
    "t_slider = widgets.SelectionSlider(options=[(f\"{t:.2f}\", i) for i, t in enumerate(t_list)], description=\"t\")\n",
    "J_slider = widgets.SelectionSlider(options=[(f\"{J:.2f}\", i) for i, J in enumerate(J_list)], description=\"J\")\n",
    "h_slider = widgets.SelectionSlider(options=[(f\"{h:.2f}\", i) for i, h in enumerate(h_list)], description=\"h\")\n",
    "\n",
    "# Create interactive UI\n",
    "ui = widgets.VBox([t_slider, J_slider, h_slider])\n",
    "out = widgets.interactive_output(plot_probabilities, {'t_idx': t_slider, 'J_idx': J_slider, 'h_idx': h_slider})\n",
    "\n",
    "# Display widgets\n",
    "display(ui, out)"
   ]
  },
  {
   "cell_type": "code",
   "execution_count": 10,
   "id": "0eb154f1-0e13-47af-bd19-a728a2e57dc8",
   "metadata": {},
   "outputs": [],
   "source": [
    "# entropy\n",
    "probs = jnp.abs(results.reshape(-1, 2**n_qubits))**2\n",
    "entropy = -jnp.nan_to_num(probs * jnp.log2(probs)).sum(axis=1).reshape(40, 41, 41)"
   ]
  },
  {
   "cell_type": "code",
   "execution_count": 11,
   "id": "09754f10-9cbe-4472-ae1a-6751acadae56",
   "metadata": {},
   "outputs": [
    {
     "name": "stdout",
     "output_type": "stream",
     "text": [
      "entropy uniform state 4.0\n",
      "entropy basis state -0.0\n"
     ]
    }
   ],
   "source": [
    "print(\"entropy uniform state\", n_qubits * jnp.log2(2) )\n",
    "print(\"entropy basis state\", - 1 * jnp.log(1))"
   ]
  },
  {
   "cell_type": "code",
   "execution_count": 12,
   "id": "f28aab57-661e-4a31-9df8-a5f0804cc04d",
   "metadata": {},
   "outputs": [
    {
     "data": {
      "application/vnd.jupyter.widget-view+json": {
       "model_id": "96f6c685507a4ec1ab9ca19dd10bf0f1",
       "version_major": 2,
       "version_minor": 0
      },
      "text/plain": [
       "VBox(children=(SelectionSlider(description='t', options=(('0.10', 0), ('0.18', 1), ('0.26', 2), ('0.33', 3), (…"
      ]
     },
     "metadata": {},
     "output_type": "display_data"
    },
    {
     "data": {
      "application/vnd.jupyter.widget-view+json": {
       "model_id": "892d18629b944297bc1b7ce967d7c49b",
       "version_major": 2,
       "version_minor": 0
      },
      "text/plain": [
       "Output()"
      ]
     },
     "metadata": {},
     "output_type": "display_data"
    }
   ],
   "source": [
    "from mpl_toolkits.axes_grid1.inset_locator import (\n",
    "    inset_axes,\n",
    "    mark_inset,\n",
    "    zoomed_inset_axes,\n",
    ")\n",
    "\n",
    "X, Y = np.meshgrid(h_list, J_list[:-1])\n",
    "\n",
    "def entropy_contour(t_idx):\n",
    "    clear_output(wait=True)\n",
    "    fig, ax = plt.subplots(figsize=(14, 8))\n",
    "    CS = ax.contourf(X, Y, entropy[t_idx, :-1, :], cmap=\"Spectral_r\")\n",
    "    \n",
    "    # Dotted contour lines for the curvature\n",
    "    contour_lines = ax.contour(\n",
    "        CS, colors=\"black\", linestyles=\"dashed\", linewidths=0.8, alpha=0.5\n",
    "    )\n",
    "    plt.xlabel(r\"$h$\", fontsize=12)\n",
    "    plt.ylabel(r\"$J$\", fontsize=12)\n",
    "    plt.title(f\"Entropy Plot: $t={t_list[t_idx]:.2f}$\")\n",
    "\n",
    "    plt.colorbar(CS)\n",
    "\n",
    "ui = widgets.VBox([t_slider])\n",
    "out = widgets.interactive_output(entropy_contour, {'t_idx': t_slider})\n",
    "\n",
    "# Display widgets\n",
    "display(ui, out)"
   ]
  },
  {
   "attachments": {},
   "cell_type": "markdown",
   "id": "31273b80-30b4-4b73-a94d-13415b0d1ed2",
   "metadata": {},
   "source": [
    "- Near $h=0$, $-1 \\leq h \\leq 1$ the entropy is relatively low implying that the quantum state is highly close to basis state for any time $t$.\n",
    "- Reflection symmetry across both h = 0 and J = 0 axes.\n",
    "- As time increases, we see many local minimas and maxima. The states with moderate entropy (between 0 and 5) are favourable because they have a non-uniform distribution. The boundary between low and high entropy regions likely corresponds to phase transitions."
   ]
  },
  {
   "cell_type": "code",
   "execution_count": null,
   "id": "e1891695-251b-4647-8580-d977b3bbfb7a",
   "metadata": {},
   "outputs": [],
   "source": []
  }
 ],
 "metadata": {
  "kernelspec": {
   "display_name": "Python (jetix)",
   "language": "python",
   "name": "jetix"
  },
  "language_info": {
   "codemirror_mode": {
    "name": "ipython",
    "version": 3
   },
   "file_extension": ".py",
   "mimetype": "text/x-python",
   "name": "python",
   "nbconvert_exporter": "python",
   "pygments_lexer": "ipython3",
   "version": "3.10.0"
  }
 },
 "nbformat": 4,
 "nbformat_minor": 5
}

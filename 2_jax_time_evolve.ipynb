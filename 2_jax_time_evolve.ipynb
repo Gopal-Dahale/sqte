{
 "cells": [
  {
   "cell_type": "markdown",
   "id": "67fc657a-2bdb-4150-abdb-ed976f9ace66",
   "metadata": {},
   "source": [
    "# Time evolution with PennyLane-JAX\n",
    "\n",
    "[![Open In Colab](https://colab.research.google.com/assets/colab-badge.svg)](https://colab.research.google.com/github/Gopal-Dahale/sqte/blob/main/2_jax_time_evolve.ipynb)\n",
    "\n",
    "## Setup"
   ]
  },
  {
   "cell_type": "code",
   "execution_count": 1,
   "id": "07b5cd04-c3cc-4b1d-bde2-79954f795f71",
   "metadata": {},
   "outputs": [],
   "source": [
    "# !pip install -q pennylane"
   ]
  },
  {
   "cell_type": "code",
   "execution_count": 1,
   "id": "c6f002ec-75bf-450c-81b4-2c9697cf245f",
   "metadata": {},
   "outputs": [],
   "source": [
    "import os\n",
    "\n",
    "os.environ[\"JAX_PLATFORMS\"] = \"cpu\"\n",
    "os.environ[\"XLA_PYTHON_CLIENT_PREALLOCATE\"] = \"False\""
   ]
  },
  {
   "cell_type": "code",
   "execution_count": 2,
   "id": "cb8d5aee-2964-437f-b1a4-eecb96a96380",
   "metadata": {},
   "outputs": [],
   "source": [
    "import pennylane as qml\n",
    "import numpy as np\n",
    "from pennylane.devices.qubit import create_initial_state, apply_operation\n",
    "from time import time\n",
    "from multiprocessing import Pool\n",
    "from ipywidgets import interact, FloatSlider\n",
    "import matplotlib.pyplot as plt\n",
    "import ipywidgets as widgets\n",
    "from IPython.display import display, clear_output\n",
    "import scipy\n",
    "import jax\n",
    "import jax.numpy as jnp"
   ]
  },
  {
   "cell_type": "code",
   "execution_count": 3,
   "id": "8e1a6b19-3435-4a17-b833-0e6fde91fd08",
   "metadata": {},
   "outputs": [],
   "source": [
    "def tfim_hamiltonian(n, J = 1.0, h = 1.0):\n",
    "    coeffs = []\n",
    "    ops = []\n",
    "    \n",
    "    # ZZ interaction terms\n",
    "    for i in range(n - 1):\n",
    "        coeffs.append(J)\n",
    "        ops.append(qml.PauliZ(i) @ qml.PauliZ(i + 1))\n",
    "    \n",
    "    # Transverse field terms (X terms)\n",
    "    for i in range(n):\n",
    "        coeffs.append(h)\n",
    "        ops.append(qml.PauliX(i))\n",
    "    \n",
    "    return qml.Hamiltonian(coeffs, ops)\n",
    "\n",
    "H = tfim_hamiltonian(4, J=1.0, h=0.5)"
   ]
  },
  {
   "cell_type": "code",
   "execution_count": 4,
   "id": "66586607-981d-4e83-a387-29a0f65449a8",
   "metadata": {},
   "outputs": [],
   "source": [
    "def insert_zero_sorted(arr):\n",
    "    if 0 in arr:\n",
    "        return arr  # Zero is already present\n",
    "    \n",
    "    # Find the insertion index for zero\n",
    "    idx = np.searchsorted(arr, 0)  # Finds the index where 0 should be inserted\n",
    "    return np.insert(arr, idx, 0)"
   ]
  },
  {
   "cell_type": "code",
   "execution_count": 5,
   "id": "f2703514-3945-4db6-98a2-87a93f74974e",
   "metadata": {},
   "outputs": [
    {
     "name": "stdout",
     "output_type": "stream",
     "text": [
      "Hamiltonian precompute time: 1.8047 sec\n"
     ]
    }
   ],
   "source": [
    "J_list = insert_zero_sorted(np.linspace(-8, 8, 40))\n",
    "h_list = insert_zero_sorted(np.linspace(-8, 8, 40))\n",
    "t_list = np.linspace(0.1, np.pi, 40)\n",
    "\n",
    "n_qubits = 4\n",
    "state = create_initial_state(range(n_qubits))\n",
    "\n",
    "# Function to generate Hamiltonian for given (J, h)\n",
    "def generate_hamiltonian(params):\n",
    "    J, h = params\n",
    "    return tfim_hamiltonian(n_qubits, J, h)\n",
    "\n",
    "# Parallelize Hamiltonian creation\n",
    "start = time()\n",
    "H_res = [generate_hamiltonian((J, h)) for J in J_list for h in h_list]\n",
    "\n",
    "H_list = jnp.array([qml.matrix(H) for H in H_res])\n",
    "print(f\"Hamiltonian precompute time: {time() - start:.4f} sec\")"
   ]
  },
  {
   "cell_type": "markdown",
   "id": "4f083a1b-6db3-4f1f-b418-fd196dc0d4d0",
   "metadata": {},
   "source": [
    "## Exact"
   ]
  },
  {
   "cell_type": "code",
   "execution_count": 6,
   "id": "0dd499a2-90ef-4cb3-a586-32c96222f1f3",
   "metadata": {},
   "outputs": [
    {
     "name": "stdout",
     "output_type": "stream",
     "text": [
      "Time evolution duration: 1.2540 sec\n"
     ]
    }
   ],
   "source": [
    "start = time()\n",
    "\n",
    "results = []\n",
    "Ht_list = jnp.array([-1j * t * H_list for t in t_list])\n",
    "results = jax.scipy.linalg.expm(Ht_list)[:, :, 0] # statevector\n",
    "results = results.reshape(len(t_list), len(J_list), len(h_list), 2**n_qubits)\n",
    "print(f\"Time evolution duration: {time() - start:.4f} sec\")"
   ]
  },
  {
   "cell_type": "code",
   "execution_count": 7,
   "id": "660477fc-035c-4d05-9f87-4d8f3314443c",
   "metadata": {},
   "outputs": [
    {
     "data": {
      "text/plain": [
       "(40, 41, 41, 16)"
      ]
     },
     "execution_count": 7,
     "metadata": {},
     "output_type": "execute_result"
    }
   ],
   "source": [
    "results.shape"
   ]
  },
  {
   "cell_type": "markdown",
   "id": "12a994c6-c8a6-45b1-9234-b75070f65b14",
   "metadata": {},
   "source": [
    "## Trotter"
   ]
  },
  {
   "cell_type": "code",
   "execution_count": 8,
   "id": "631f4b56-1be9-4ac6-ba02-08fb0d45a5dd",
   "metadata": {},
   "outputs": [
    {
     "data": {
      "text/plain": [
       "(40, 41, 41, 16)"
      ]
     },
     "execution_count": 8,
     "metadata": {},
     "output_type": "execute_result"
    }
   ],
   "source": [
    "dev = qml.device('default.qubit', wires=n_qubits)\n",
    "\n",
    "n_trot = 1\n",
    "\n",
    "def trot_circ(t, J, h):\n",
    "    for step in range(n_trot):  \n",
    "        \n",
    "        # ZZ interaction terms\n",
    "        for i in range(n_qubits - 1):\n",
    "            theta = 2 * t * J / n_trot\n",
    "            qml.PauliRot(theta, \"ZZ\", [i, i+1])\n",
    "            \n",
    "        # Transverse field terms (X terms)\n",
    "        for i in range(n_qubits):\n",
    "            theta = 2 * t * h / n_trot\n",
    "            qml.PauliRot(theta, \"X\", [i])\n",
    "\n",
    "@jax.jit\n",
    "@qml.qnode(dev, interface='jax')\n",
    "def circuit(params):\n",
    "    trot_circ(*params)\n",
    "    return qml.state()\n",
    "\n",
    "vcircuit = jax.vmap(circuit)\n",
    "\n",
    "A, B, C = np.meshgrid(t_list, J_list, h_list, indexing='ij')\n",
    "params = np.vstack([A.ravel(), B.ravel(), C.ravel()]).T\n",
    "results_trot = vcircuit(params).reshape(len(t_list), len(J_list), len(h_list), 2**n_qubits)\n",
    "results_trot.shape"
   ]
  },
  {
   "cell_type": "code",
   "execution_count": 9,
   "id": "1f413a8c-ee6f-49b1-924f-cfd24f29bc56",
   "metadata": {},
   "outputs": [],
   "source": [
    "# Define computational basis states\n",
    "x_vals = np.arange(2**n_qubits) \n",
    "cmap = plt.get_cmap(\"tab10\")\n",
    "\n",
    "# Interactive plot function\n",
    "def plot_probabilities(t_idx, J_idx, h_idx):\n",
    "    clear_output(wait=True)  # Speed up rendering by clearing old plots\n",
    "    \n",
    "    psi = results[t_idx, J_idx, h_idx]  # Extract state vector\n",
    "    probabilities = jnp.abs(psi) ** 2  # Compute probabilities\n",
    "\n",
    "    psi_trot = results_trot[t_idx, J_idx, h_idx]\n",
    "    probs_trot = jnp.abs(psi_trot) ** 2 \n",
    "\n",
    "    # Plot\n",
    "    plt.figure(figsize=(12, 5))\n",
    "    width = 0.4\n",
    "    plt.bar(x_vals, probabilities, alpha=0.8, width=width, label='Exact', color=cmap(2), align='center')\n",
    "    # plt.bar(x_vals  + width, probs_trot, alpha=0.8, width=width, label='Trotterized', color=cmap(3), align='center')\n",
    "    plt.xlabel(\"Computational Basis State (x)\")\n",
    "    plt.ylabel(\"Probability |ψ(x, t)|²\")\n",
    "    plt.title(f\"TFIM Evolution: $t={t_list[t_idx]:.2f}, J={J_list[J_idx]:.2f}, h={h_list[h_idx]:.2f}$\")\n",
    "    # plt.ylim( (pow(10,-1),pow(10,0)) )  # Probability range\n",
    "    plt.xticks(x_vals + width/2, x_vals)  # Show x values\n",
    "    plt.yscale('log')\n",
    "    plt.legend()\n",
    "    plt.show()"
   ]
  },
  {
   "cell_type": "code",
   "execution_count": 10,
   "id": "9e420872-1c17-42af-bc9a-fe88b558568e",
   "metadata": {},
   "outputs": [
    {
     "data": {
      "application/vnd.jupyter.widget-view+json": {
       "model_id": "a969b61ad9394952a78fcd5558712504",
       "version_major": 2,
       "version_minor": 0
      },
      "text/plain": [
       "VBox(children=(SelectionSlider(description='t', options=(('0.10', 0), ('0.18', 1), ('0.26', 2), ('0.33', 3), (…"
      ]
     },
     "metadata": {},
     "output_type": "display_data"
    },
    {
     "data": {
      "application/vnd.jupyter.widget-view+json": {
       "model_id": "c4b9aa37768c416f86e4762cb25f138d",
       "version_major": 2,
       "version_minor": 0
      },
      "text/plain": [
       "Output()"
      ]
     },
     "metadata": {},
     "output_type": "display_data"
    }
   ],
   "source": [
    "# Create sliders with actual values \n",
    "t_slider = widgets.SelectionSlider(options=[(f\"{t:.2f}\", i) for i, t in enumerate(t_list)], description=\"t\")\n",
    "J_slider = widgets.SelectionSlider(options=[(f\"{J:.2f}\", i) for i, J in enumerate(J_list)], description=\"J\")\n",
    "h_slider = widgets.SelectionSlider(options=[(f\"{h:.2f}\", i) for i, h in enumerate(h_list)], description=\"h\")\n",
    "\n",
    "# Create interactive UI\n",
    "ui = widgets.VBox([t_slider, J_slider, h_slider])\n",
    "out = widgets.interactive_output(plot_probabilities, {'t_idx': t_slider, 'J_idx': J_slider, 'h_idx': h_slider})\n",
    "\n",
    "# Display widgets\n",
    "display(ui, out)"
   ]
  },
  {
   "cell_type": "code",
   "execution_count": 11,
   "id": "0eb154f1-0e13-47af-bd19-a728a2e57dc8",
   "metadata": {},
   "outputs": [],
   "source": [
    "# entropy\n",
    "probs = jnp.abs(results.reshape(-1, 2**n_qubits))**2\n",
    "entropy = -jnp.nan_to_num(probs * jnp.log2(probs)).sum(axis=1).reshape(40, 41, 41)"
   ]
  },
  {
   "cell_type": "code",
   "execution_count": 12,
   "id": "09754f10-9cbe-4472-ae1a-6751acadae56",
   "metadata": {},
   "outputs": [
    {
     "name": "stdout",
     "output_type": "stream",
     "text": [
      "entropy uniform state 4.0\n",
      "entropy basis state -0.0\n"
     ]
    }
   ],
   "source": [
    "print(\"entropy uniform state\", n_qubits * jnp.log2(2) )\n",
    "print(\"entropy basis state\", - 1 * jnp.log(1))"
   ]
  },
  {
   "cell_type": "code",
   "execution_count": 13,
   "id": "f28aab57-661e-4a31-9df8-a5f0804cc04d",
   "metadata": {},
   "outputs": [
    {
     "data": {
      "application/vnd.jupyter.widget-view+json": {
       "model_id": "8383216f2071448889ee54c92d702da6",
       "version_major": 2,
       "version_minor": 0
      },
      "text/plain": [
       "VBox(children=(SelectionSlider(description='t', options=(('0.10', 0), ('0.18', 1), ('0.26', 2), ('0.33', 3), (…"
      ]
     },
     "metadata": {},
     "output_type": "display_data"
    },
    {
     "data": {
      "application/vnd.jupyter.widget-view+json": {
       "model_id": "f88b6c02a4a44306aeaee4c5db1a570b",
       "version_major": 2,
       "version_minor": 0
      },
      "text/plain": [
       "Output()"
      ]
     },
     "metadata": {},
     "output_type": "display_data"
    }
   ],
   "source": [
    "from mpl_toolkits.axes_grid1.inset_locator import (\n",
    "    inset_axes,\n",
    "    mark_inset,\n",
    "    zoomed_inset_axes,\n",
    ")\n",
    "\n",
    "X, Y = np.meshgrid(h_list, J_list[:-1])\n",
    "\n",
    "def entropy_contour(t_idx):\n",
    "    clear_output(wait=True)\n",
    "    fig, ax = plt.subplots(figsize=(14, 8))\n",
    "    CS = ax.contourf(X, Y, entropy[t_idx, :-1, :], cmap=\"Spectral_r\")\n",
    "    \n",
    "    # Dotted contour lines for the curvature\n",
    "    contour_lines = ax.contour(\n",
    "        CS, colors=\"black\", linestyles=\"dashed\", linewidths=0.8, alpha=0.5\n",
    "    )\n",
    "    plt.xlabel(r\"$h$\", fontsize=12)\n",
    "    plt.ylabel(r\"$J$\", fontsize=12)\n",
    "    plt.title(f\"Entropy Plot: $t={t_list[t_idx]:.2f}$\")\n",
    "\n",
    "    plt.colorbar(CS)\n",
    "\n",
    "ui = widgets.VBox([t_slider])\n",
    "out = widgets.interactive_output(entropy_contour, {'t_idx': t_slider})\n",
    "\n",
    "# Display widgets\n",
    "display(ui, out)"
   ]
  },
  {
   "attachments": {},
   "cell_type": "markdown",
   "id": "31273b80-30b4-4b73-a94d-13415b0d1ed2",
   "metadata": {},
   "source": [
    "- Near $h=0$, $-1 \\leq h \\leq 1$ the entropy is relatively low implying that the quantum state is highly close to basis state for any time $t$.\n",
    "- Reflection symmetry across both h = 0 and J = 0 axes.\n",
    "- As time increases, we see many local minimas and maxima. The states with moderate entropy (between 0 and 5) are favourable because they have a non-uniform distribution. The boundary between low and high entropy regions likely corresponds to phase transitions."
   ]
  },
  {
   "cell_type": "markdown",
   "id": "0b0c0e19-2d4a-4a19-bf57-729db728b3c7",
   "metadata": {},
   "source": [
    "## Time evolution $P_\\mu (t)$\n",
    "\n",
    "See [this](https://arxiv.org/pdf/2412.13839) paper's Section III B and IV A"
   ]
  },
  {
   "cell_type": "code",
   "execution_count": 14,
   "id": "1a7ed8ad-bc53-4697-b3b2-fa39c868af1f",
   "metadata": {},
   "outputs": [
    {
     "name": "stdout",
     "output_type": "stream",
     "text": [
      "Hamiltonian precompute time: 3.5135 sec\n"
     ]
    }
   ],
   "source": [
    "t_list = np.linspace(0.0001, 5, 100)\n",
    "\n",
    "n_qubits = 4\n",
    "state = create_initial_state(range(n_qubits))\n",
    "\n",
    "# Function to generate Hamiltonian for given (J, h)\n",
    "def generate_hamiltonian(params):\n",
    "    J, h = params\n",
    "    return tfim_hamiltonian(n_qubits, J, h)\n",
    "\n",
    "# Parallelize Hamiltonian creation\n",
    "start = time()\n",
    "H_res = [generate_hamiltonian((J, h)) for J in J_list for h in h_list]\n",
    "\n",
    "H_list = jnp.array([qml.matrix(H) for H in H_res])\n",
    "print(f\"Hamiltonian precompute time: {time() - start:.4f} sec\")"
   ]
  },
  {
   "cell_type": "code",
   "execution_count": 15,
   "id": "5b9260c7-a68f-417b-b729-e614bb51d5a0",
   "metadata": {},
   "outputs": [
    {
     "name": "stdout",
     "output_type": "stream",
     "text": [
      "Time evolution duration: 2.4886 sec\n"
     ]
    },
    {
     "data": {
      "text/plain": [
       "(100, 41, 41, 16)"
      ]
     },
     "execution_count": 15,
     "metadata": {},
     "output_type": "execute_result"
    }
   ],
   "source": [
    "start = time()\n",
    "\n",
    "results = []\n",
    "Ht_list = jnp.array([-1j * t * H_list for t in t_list])\n",
    "results = jax.scipy.linalg.expm(Ht_list)[:, :, 0] # statevector\n",
    "results = results.reshape(len(t_list), len(J_list), len(h_list), 2**n_qubits)\n",
    "print(f\"Time evolution duration: {time() - start:.4f} sec\")\n",
    "results.shape"
   ]
  },
  {
   "cell_type": "code",
   "execution_count": 16,
   "id": "b959d4a5-829b-48dc-a963-4fa4284dbbb2",
   "metadata": {},
   "outputs": [],
   "source": [
    "flip_levels = range(n_qubits + 1)  # Flip levels from 0 to n\n",
    "P_mu_t = jnp.abs(results)**2\n",
    "\n",
    "# Function to compute the number of flips (1s) in the binary representation of mu\n",
    "def flip_level(mu, n):\n",
    "    return bin(mu).count('1')\n",
    "\n",
    "# Group basis state indices by flip level\n",
    "indices_by_flip = {k: [mu for mu in range(2**n_qubits) if flip_level(mu, n_qubits) == k] for k in flip_levels}"
   ]
  },
  {
   "cell_type": "code",
   "execution_count": 17,
   "id": "2ee20d85-e339-4752-8a2a-8919bd4efbfa",
   "metadata": {},
   "outputs": [
    {
     "data": {
      "text/plain": [
       "(5, 100, 41, 41)"
      ]
     },
     "execution_count": 17,
     "metadata": {},
     "output_type": "execute_result"
    }
   ],
   "source": [
    "avg_P = jnp.array([P_mu_t[:, :, :, indices_by_flip[k]].mean(axis=-1) for k in flip_levels])\n",
    "avg_P.shape"
   ]
  },
  {
   "cell_type": "code",
   "execution_count": 18,
   "id": "243d7895-e349-4e6c-a282-e1bca5d6c128",
   "metadata": {},
   "outputs": [
    {
     "data": {
      "text/plain": [
       "(5, 41, 41)"
      ]
     },
     "execution_count": 18,
     "metadata": {},
     "output_type": "execute_result"
    }
   ],
   "source": [
    "from scipy.optimize import curve_fit\n",
    "\n",
    "# Define function for least squares fitting\n",
    "@jax.jit\n",
    "def fit_least_squares(x, y, k):\n",
    "    if x.shape[0] == 0:\n",
    "        return 0.0  # Return 0 if no data\n",
    "\n",
    "    # Fit log-log to avoid nonlinear optimization\n",
    "    log_x = k*jnp.log(x)\n",
    "    log_y = jnp.log(y)\n",
    "    \n",
    "    A = jnp.vstack([log_x, jnp.ones_like(log_x)]).T\n",
    "    params, _, _, _ = jnp.linalg.lstsq(A, log_y, rcond=None)\n",
    "    \n",
    "    a_fit = jnp.exp(params[1])  # Convert back to original scale\n",
    "    return a_fit\n",
    "\n",
    "# Vectorized function using vmap\n",
    "@jax.jit\n",
    "def fit_params_vmap(avg_P_k, t_list, k):\n",
    "    return fit_least_squares(t_list, avg_P_k, 2*k)\n",
    "\n",
    "# Apply vmap across (i, j) indices\n",
    "@jax.jit\n",
    "def compute_fit_params(J_list, h_list, avg_P, t_list, k):\n",
    "    return jax.vmap(jax.vmap(lambda avg_P_k: fit_params_vmap(avg_P_k, t_list, k), in_axes=1), in_axes=1)(avg_P)\n",
    "\n",
    "fit_params = jnp.array([compute_fit_params(J_list, h_list, avg_P[k][t_list<=0.1], t_list[t_list<=0.1], k) for k in flip_levels])\n",
    "fit_params.shape"
   ]
  },
  {
   "cell_type": "code",
   "execution_count": 19,
   "id": "9bc76fab-4883-4f30-b01b-4f0c0f6b6fc8",
   "metadata": {},
   "outputs": [],
   "source": [
    "def plot_p_mu_t(J_idx, h_idx):\n",
    "    clear_output(wait=True)  # Speed up rendering by clearing old plots\n",
    "\n",
    "    plt.figure(figsize=(10, 6))\n",
    "    for k in flip_levels:\n",
    "        t_filtered = t_list[jnp.array(avg_P[k, :, J_idx, h_idx]) > 0]\n",
    "        avg_P_filtered = jnp.array(avg_P[k, :, J_idx, h_idx])[np.array(avg_P[k, :, J_idx, h_idx]) > 0]\n",
    "        if len(t_filtered) > 0:\n",
    "            plt.plot(t_filtered, avg_P_filtered, label=f'{k}-flip')\n",
    "            prefactor = fit_params[k][J_idx, h_idx]\n",
    "            plt.plot(t_filtered, prefactor * (t_filtered**(2*k)), ls='--', label=f'fit {k}-flip {prefactor:.2f}. $t^{{{2*k}}}$')\n",
    "    \n",
    "    plt.xlabel('log(t)')\n",
    "    plt.ylabel('log(avg P_mu(t))')\n",
    "    plt.yscale('log')\n",
    "    plt.xscale('log')\n",
    "    plt.title(f'Log-Log Plot of Average Probabilities, $J={J_list[J_idx]:.2f}, h={h_list[h_idx]:.2f}$')\n",
    "    plt.legend(loc='center left', bbox_to_anchor=(1, 0.5))\n",
    "    plt.grid(True)\n",
    "    plt.show()"
   ]
  },
  {
   "cell_type": "code",
   "execution_count": 20,
   "id": "7930c816-cf3b-4f49-8076-10a0479e1d0b",
   "metadata": {},
   "outputs": [
    {
     "data": {
      "application/vnd.jupyter.widget-view+json": {
       "model_id": "2fc7afd09a89437d9e5bdc5c4ed68fd1",
       "version_major": 2,
       "version_minor": 0
      },
      "text/plain": [
       "VBox(children=(SelectionSlider(description='J', options=(('-8.00', 0), ('-7.59', 1), ('-7.18', 2), ('-6.77', 3…"
      ]
     },
     "metadata": {},
     "output_type": "display_data"
    },
    {
     "data": {
      "application/vnd.jupyter.widget-view+json": {
       "model_id": "a3a8959b689544949c26cb7aef777073",
       "version_major": 2,
       "version_minor": 0
      },
      "text/plain": [
       "Output()"
      ]
     },
     "metadata": {},
     "output_type": "display_data"
    }
   ],
   "source": [
    "# Create sliders with actual values \n",
    "J_slider = widgets.SelectionSlider(options=[(f\"{J:.2f}\", i) for i, J in enumerate(J_list)], description=\"J\")\n",
    "h_slider = widgets.SelectionSlider(options=[(f\"{h:.2f}\", i) for i, h in enumerate(h_list)], description=\"h\")\n",
    "\n",
    "# Create interactive UI\n",
    "ui = widgets.VBox([J_slider, h_slider])\n",
    "out = widgets.interactive_output(plot_p_mu_t, {'J_idx': J_slider, 'h_idx': h_slider})\n",
    "\n",
    "# Display widgets\n",
    "display(ui, out)"
   ]
  },
  {
   "cell_type": "markdown",
   "id": "e17d276a-b838-4fc6-a5d0-f71a2049da95",
   "metadata": {},
   "source": [
    "#### Curves\n",
    "**Solid lines**: Average probabilities for each flip level:\n",
    "  - 0-flip ($ |0000\\rangle $)\n",
    "  - 1-flip ($ |0001\\rangle, |0010\\rangle, \\ldots $)\n",
    "  - 2-flip ($ |0011\\rangle, |0101\\rangle, \\ldots $)\n",
    "  - 3-flip ($ |0111\\rangle, |1011\\rangle, \\ldots $)\n",
    "  - 4-flip ($ |1111\\rangle $)\n",
    "\n",
    "**Dashed lines**: Fitted power-law curves $ f t^{2k} $, with coefficients in the legend and $f$ being the prefactor.\n",
    "\n",
    "#### Observations\n",
    "**Scaling for Small $ t $**: For $ t < 0.01 $, each flip level’s curve is linear, indicating power-law scaling $ \\log(P_\\mu(t)) \\sim 2k \\log(t) + \\log(f) $.\n",
    "\n",
    "**Deviation at Larger $ t $**: Around $ t \\approx 0.1 $, the curves deviate from the fitted lines and begin oscillating, consistent with the paper’s observation that higher-order terms in the time evolution series dominate around $ t \\sim 1 $.\n",
    "\n",
    "For a state $ |\\mu\\rangle $ with $ k $ flips from the initial state $ |0000\\rangle $, $ P_\\mu(t) \\sim t^{2k} $ for small $ t $. This is because the TFIM Hamiltonian $ H = -J \\sum_i Z_i Z_{i+1} - h \\sum_i X_i $ connects $ |0000\\rangle $ to a $ k $-flip state via $ k $ applications of the $ X_i $ terms (each $ X_i $ flips one spin).\n",
    "\n",
    "- **1-flip**: $ t^2 $, as one $ X_i $ term connects directly (e.g., $ X_1 |0000\\rangle = |1000\\rangle $).\n",
    "- **2-flip**: $ t^4 $, requiring two $ X_i $ terms (e.g., $ X_1 X_2 |0000\\rangle = |1100\\rangle $), and so on.\n",
    "\n",
    "For $ t > 0.1$, the probabilities oscillate due to interference between eigenstates:\n",
    "$$\n",
    "P_\\mu(t) = \\left| \\sum_n e^{-i E_n t} c_n^I c_n^\\mu \\right|^2.\n",
    "$$\n",
    "\n",
    "Large $ h/J $ means the $ X_i $ terms dominate, causing rapid mixing across all flip levels, leading to pronounced oscillations.\n",
    "\n",
    "The 0-flip state ($ |0000\\rangle $) starts at probability 1 and decreases slowly, as expected, since it’s the initial state.\n",
    "\n",
    "**Sampling Times**:\n",
    " For small $ t $ (e.g., $ t < 0.01 $), lower flip levels dominate (1-flip, 2-flip). By sampling at such times, the subspace will mostly include these states, which might miss higher flip contributions important for longer-time dynamics. Around $ t \\approx 0.1 $ to 0.5, all flip levels have significant probabilities, making this a good range to sample for a balanced subspace."
   ]
  },
  {
   "cell_type": "code",
   "execution_count": null,
   "id": "a6eff056-addb-466f-8b44-cc40acccc9b0",
   "metadata": {},
   "outputs": [],
   "source": []
  },
  {
   "cell_type": "code",
   "execution_count": null,
   "id": "70840556-53ca-4ab8-851c-1d2b85a538cf",
   "metadata": {},
   "outputs": [],
   "source": []
  }
 ],
 "metadata": {
  "kernelspec": {
   "display_name": "Python (jetix)",
   "language": "python",
   "name": "jetix"
  },
  "language_info": {
   "codemirror_mode": {
    "name": "ipython",
    "version": 3
   },
   "file_extension": ".py",
   "mimetype": "text/x-python",
   "name": "python",
   "nbconvert_exporter": "python",
   "pygments_lexer": "ipython3",
   "version": "3.10.0"
  }
 },
 "nbformat": 4,
 "nbformat_minor": 5
}
